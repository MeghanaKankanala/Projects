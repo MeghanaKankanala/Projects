{
  "nbformat": 4,
  "nbformat_minor": 0,
  "metadata": {
    "colab": {
      "name": "HR_CHURN__final.ipynb",
      "provenance": [],
      "collapsed_sections": [],
      "include_colab_link": true
    },
    "kernelspec": {
      "display_name": "Python 3",
      "language": "python",
      "name": "python3"
    },
    "language_info": {
      "codemirror_mode": {
        "name": "ipython",
        "version": 3
      },
      "file_extension": ".py",
      "mimetype": "text/x-python",
      "name": "python",
      "nbconvert_exporter": "python",
      "pygments_lexer": "ipython3",
      "version": "3.7.7"
    }
  },
  "cells": [
    {
      "cell_type": "markdown",
      "metadata": {
        "id": "view-in-github",
        "colab_type": "text"
      },
      "source": [
        "<a href=\"https://colab.research.google.com/github/MeghanaKankanala/Projects/blob/master/HR_CHURN__final.ipynb\" target=\"_parent\"><img src=\"https://colab.research.google.com/assets/colab-badge.svg\" alt=\"Open In Colab\"/></a>"
      ]
    },
    {
      "cell_type": "code",
      "metadata": {
        "colab_type": "code",
        "id": "bD4EMukdRAaz",
        "colab": {
          "base_uri": "https://localhost:8080/",
          "height": 71
        },
        "outputId": "735578ff-347e-49b5-8613-97ee250ae68a"
      },
      "source": [
        "import pandas as pd\n",
        "import numpy as np\n",
        "import seaborn as sns\n",
        "import matplotlib.pyplot as plt\n",
        "import warnings\n",
        "warnings.filterwarnings(\"ignore\")\n",
        "sns.set(style=\"ticks\")"
      ],
      "execution_count": null,
      "outputs": [
        {
          "output_type": "stream",
          "text": [
            "/usr/local/lib/python3.6/dist-packages/statsmodels/tools/_testing.py:19: FutureWarning: pandas.util.testing is deprecated. Use the functions in the public API at pandas.testing instead.\n",
            "  import pandas.util.testing as tm\n"
          ],
          "name": "stderr"
        }
      ]
    },
    {
      "cell_type": "code",
      "metadata": {
        "colab_type": "code",
        "id": "9iktPg1ORTU2",
        "colab": {
          "base_uri": "https://localhost:8080/",
          "height": 241
        },
        "outputId": "0e7f4c31-e1bd-49db-dc81-94d693936f43"
      },
      "source": [
        "hr_churn=pd.read_csv(\"HR_Data.csv\")\n",
        "print(hr_churn.shape)\n",
        "hr_churn.head()"
      ],
      "execution_count": null,
      "outputs": [
        {
          "output_type": "stream",
          "text": [
            "(8998, 18)\n"
          ],
          "name": "stdout"
        },
        {
          "output_type": "execute_result",
          "data": {
            "text/html": [
              "<div>\n",
              "<style scoped>\n",
              "    .dataframe tbody tr th:only-of-type {\n",
              "        vertical-align: middle;\n",
              "    }\n",
              "\n",
              "    .dataframe tbody tr th {\n",
              "        vertical-align: top;\n",
              "    }\n",
              "\n",
              "    .dataframe thead th {\n",
              "        text-align: right;\n",
              "    }\n",
              "</style>\n",
              "<table border=\"1\" class=\"dataframe\">\n",
              "  <thead>\n",
              "    <tr style=\"text-align: right;\">\n",
              "      <th></th>\n",
              "      <th>SLNO</th>\n",
              "      <th>Candidate.Ref</th>\n",
              "      <th>DOJ.Extended</th>\n",
              "      <th>Duration.to.accept.offer</th>\n",
              "      <th>Notice.period</th>\n",
              "      <th>Offered.band</th>\n",
              "      <th>Pecent.hike.expected.in.CTC</th>\n",
              "      <th>Percent.hike.offered.in.CTC</th>\n",
              "      <th>Percent.difference.CTC</th>\n",
              "      <th>Joining.Bonus</th>\n",
              "      <th>Candidate.relocate.actual</th>\n",
              "      <th>Gender</th>\n",
              "      <th>Candidate.Source</th>\n",
              "      <th>Rex.in.Yrs</th>\n",
              "      <th>LOB</th>\n",
              "      <th>Location</th>\n",
              "      <th>Age</th>\n",
              "      <th>Status</th>\n",
              "    </tr>\n",
              "  </thead>\n",
              "  <tbody>\n",
              "    <tr>\n",
              "      <th>0</th>\n",
              "      <td>1</td>\n",
              "      <td>2110407</td>\n",
              "      <td>Yes</td>\n",
              "      <td>14</td>\n",
              "      <td>30</td>\n",
              "      <td>E2</td>\n",
              "      <td>-20.79</td>\n",
              "      <td>13.16</td>\n",
              "      <td>42.86</td>\n",
              "      <td>No</td>\n",
              "      <td>No</td>\n",
              "      <td>Female</td>\n",
              "      <td>Agency</td>\n",
              "      <td>7</td>\n",
              "      <td>ERS</td>\n",
              "      <td>Noida</td>\n",
              "      <td>34</td>\n",
              "      <td>Joined</td>\n",
              "    </tr>\n",
              "    <tr>\n",
              "      <th>1</th>\n",
              "      <td>2</td>\n",
              "      <td>2112635</td>\n",
              "      <td>No</td>\n",
              "      <td>18</td>\n",
              "      <td>30</td>\n",
              "      <td>E2</td>\n",
              "      <td>50.00</td>\n",
              "      <td>320.00</td>\n",
              "      <td>180.00</td>\n",
              "      <td>No</td>\n",
              "      <td>No</td>\n",
              "      <td>Male</td>\n",
              "      <td>Employee Referral</td>\n",
              "      <td>8</td>\n",
              "      <td>INFRA</td>\n",
              "      <td>Chennai</td>\n",
              "      <td>34</td>\n",
              "      <td>Joined</td>\n",
              "    </tr>\n",
              "    <tr>\n",
              "      <th>2</th>\n",
              "      <td>3</td>\n",
              "      <td>2112838</td>\n",
              "      <td>No</td>\n",
              "      <td>3</td>\n",
              "      <td>45</td>\n",
              "      <td>E2</td>\n",
              "      <td>42.84</td>\n",
              "      <td>42.84</td>\n",
              "      <td>0.00</td>\n",
              "      <td>No</td>\n",
              "      <td>No</td>\n",
              "      <td>Male</td>\n",
              "      <td>Agency</td>\n",
              "      <td>4</td>\n",
              "      <td>INFRA</td>\n",
              "      <td>Noida</td>\n",
              "      <td>27</td>\n",
              "      <td>Joined</td>\n",
              "    </tr>\n",
              "    <tr>\n",
              "      <th>3</th>\n",
              "      <td>4</td>\n",
              "      <td>2115021</td>\n",
              "      <td>No</td>\n",
              "      <td>26</td>\n",
              "      <td>30</td>\n",
              "      <td>E2</td>\n",
              "      <td>42.84</td>\n",
              "      <td>42.84</td>\n",
              "      <td>0.00</td>\n",
              "      <td>No</td>\n",
              "      <td>No</td>\n",
              "      <td>Male</td>\n",
              "      <td>Employee Referral</td>\n",
              "      <td>4</td>\n",
              "      <td>INFRA</td>\n",
              "      <td>Noida</td>\n",
              "      <td>34</td>\n",
              "      <td>Joined</td>\n",
              "    </tr>\n",
              "    <tr>\n",
              "      <th>4</th>\n",
              "      <td>5</td>\n",
              "      <td>2115125</td>\n",
              "      <td>Yes</td>\n",
              "      <td>1</td>\n",
              "      <td>120</td>\n",
              "      <td>E2</td>\n",
              "      <td>42.59</td>\n",
              "      <td>42.59</td>\n",
              "      <td>0.00</td>\n",
              "      <td>No</td>\n",
              "      <td>Yes</td>\n",
              "      <td>Male</td>\n",
              "      <td>Employee Referral</td>\n",
              "      <td>6</td>\n",
              "      <td>INFRA</td>\n",
              "      <td>Noida</td>\n",
              "      <td>34</td>\n",
              "      <td>Joined</td>\n",
              "    </tr>\n",
              "  </tbody>\n",
              "</table>\n",
              "</div>"
            ],
            "text/plain": [
              "   SLNO  Candidate.Ref DOJ.Extended  ...  Location  Age  Status\n",
              "0     1        2110407          Yes  ...     Noida   34  Joined\n",
              "1     2        2112635           No  ...   Chennai   34  Joined\n",
              "2     3        2112838           No  ...     Noida   27  Joined\n",
              "3     4        2115021           No  ...     Noida   34  Joined\n",
              "4     5        2115125          Yes  ...     Noida   34  Joined\n",
              "\n",
              "[5 rows x 18 columns]"
            ]
          },
          "metadata": {
            "tags": []
          },
          "execution_count": 2
        }
      ]
    },
    {
      "cell_type": "code",
      "metadata": {
        "colab_type": "code",
        "id": "ue4KZ1--SA5h",
        "colab": {
          "base_uri": "https://localhost:8080/",
          "height": 340
        },
        "outputId": "56c5c392-ede7-4cd8-b736-354679e443ea"
      },
      "source": [
        "hr_churn.isnull().sum()"
      ],
      "execution_count": null,
      "outputs": [
        {
          "output_type": "execute_result",
          "data": {
            "text/plain": [
              "SLNO                           0\n",
              "Candidate.Ref                  0\n",
              "DOJ.Extended                   0\n",
              "Duration.to.accept.offer       0\n",
              "Notice.period                  0\n",
              "Offered.band                   0\n",
              "Pecent.hike.expected.in.CTC    0\n",
              "Percent.hike.offered.in.CTC    0\n",
              "Percent.difference.CTC         0\n",
              "Joining.Bonus                  0\n",
              "Candidate.relocate.actual      0\n",
              "Gender                         0\n",
              "Candidate.Source               0\n",
              "Rex.in.Yrs                     0\n",
              "LOB                            0\n",
              "Location                       0\n",
              "Age                            0\n",
              "Status                         0\n",
              "dtype: int64"
            ]
          },
          "metadata": {
            "tags": []
          },
          "execution_count": 3
        }
      ]
    },
    {
      "cell_type": "code",
      "metadata": {
        "colab_type": "code",
        "id": "-SHUNNkFnxhT",
        "colab": {
          "base_uri": "https://localhost:8080/",
          "height": 439
        },
        "outputId": "a82375f6-a5f0-4664-8953-1723e15432e5"
      },
      "source": [
        "hr_churn=hr_churn.drop(\"SLNO\", axis=1)\n",
        "hr_churn=hr_churn.drop(\"Candidate.Ref\", axis=1)\n",
        "\n",
        "hr_churn"
      ],
      "execution_count": null,
      "outputs": [
        {
          "output_type": "execute_result",
          "data": {
            "text/html": [
              "<div>\n",
              "<style scoped>\n",
              "    .dataframe tbody tr th:only-of-type {\n",
              "        vertical-align: middle;\n",
              "    }\n",
              "\n",
              "    .dataframe tbody tr th {\n",
              "        vertical-align: top;\n",
              "    }\n",
              "\n",
              "    .dataframe thead th {\n",
              "        text-align: right;\n",
              "    }\n",
              "</style>\n",
              "<table border=\"1\" class=\"dataframe\">\n",
              "  <thead>\n",
              "    <tr style=\"text-align: right;\">\n",
              "      <th></th>\n",
              "      <th>DOJ.Extended</th>\n",
              "      <th>Duration.to.accept.offer</th>\n",
              "      <th>Notice.period</th>\n",
              "      <th>Offered.band</th>\n",
              "      <th>Pecent.hike.expected.in.CTC</th>\n",
              "      <th>Percent.hike.offered.in.CTC</th>\n",
              "      <th>Percent.difference.CTC</th>\n",
              "      <th>Joining.Bonus</th>\n",
              "      <th>Candidate.relocate.actual</th>\n",
              "      <th>Gender</th>\n",
              "      <th>Candidate.Source</th>\n",
              "      <th>Rex.in.Yrs</th>\n",
              "      <th>LOB</th>\n",
              "      <th>Location</th>\n",
              "      <th>Age</th>\n",
              "      <th>Status</th>\n",
              "    </tr>\n",
              "  </thead>\n",
              "  <tbody>\n",
              "    <tr>\n",
              "      <th>0</th>\n",
              "      <td>Yes</td>\n",
              "      <td>14</td>\n",
              "      <td>30</td>\n",
              "      <td>E2</td>\n",
              "      <td>-20.79</td>\n",
              "      <td>13.16</td>\n",
              "      <td>42.86</td>\n",
              "      <td>No</td>\n",
              "      <td>No</td>\n",
              "      <td>Female</td>\n",
              "      <td>Agency</td>\n",
              "      <td>7</td>\n",
              "      <td>ERS</td>\n",
              "      <td>Noida</td>\n",
              "      <td>34</td>\n",
              "      <td>Joined</td>\n",
              "    </tr>\n",
              "    <tr>\n",
              "      <th>1</th>\n",
              "      <td>No</td>\n",
              "      <td>18</td>\n",
              "      <td>30</td>\n",
              "      <td>E2</td>\n",
              "      <td>50.00</td>\n",
              "      <td>320.00</td>\n",
              "      <td>180.00</td>\n",
              "      <td>No</td>\n",
              "      <td>No</td>\n",
              "      <td>Male</td>\n",
              "      <td>Employee Referral</td>\n",
              "      <td>8</td>\n",
              "      <td>INFRA</td>\n",
              "      <td>Chennai</td>\n",
              "      <td>34</td>\n",
              "      <td>Joined</td>\n",
              "    </tr>\n",
              "    <tr>\n",
              "      <th>2</th>\n",
              "      <td>No</td>\n",
              "      <td>3</td>\n",
              "      <td>45</td>\n",
              "      <td>E2</td>\n",
              "      <td>42.84</td>\n",
              "      <td>42.84</td>\n",
              "      <td>0.00</td>\n",
              "      <td>No</td>\n",
              "      <td>No</td>\n",
              "      <td>Male</td>\n",
              "      <td>Agency</td>\n",
              "      <td>4</td>\n",
              "      <td>INFRA</td>\n",
              "      <td>Noida</td>\n",
              "      <td>27</td>\n",
              "      <td>Joined</td>\n",
              "    </tr>\n",
              "    <tr>\n",
              "      <th>3</th>\n",
              "      <td>No</td>\n",
              "      <td>26</td>\n",
              "      <td>30</td>\n",
              "      <td>E2</td>\n",
              "      <td>42.84</td>\n",
              "      <td>42.84</td>\n",
              "      <td>0.00</td>\n",
              "      <td>No</td>\n",
              "      <td>No</td>\n",
              "      <td>Male</td>\n",
              "      <td>Employee Referral</td>\n",
              "      <td>4</td>\n",
              "      <td>INFRA</td>\n",
              "      <td>Noida</td>\n",
              "      <td>34</td>\n",
              "      <td>Joined</td>\n",
              "    </tr>\n",
              "    <tr>\n",
              "      <th>4</th>\n",
              "      <td>Yes</td>\n",
              "      <td>1</td>\n",
              "      <td>120</td>\n",
              "      <td>E2</td>\n",
              "      <td>42.59</td>\n",
              "      <td>42.59</td>\n",
              "      <td>0.00</td>\n",
              "      <td>No</td>\n",
              "      <td>Yes</td>\n",
              "      <td>Male</td>\n",
              "      <td>Employee Referral</td>\n",
              "      <td>6</td>\n",
              "      <td>INFRA</td>\n",
              "      <td>Noida</td>\n",
              "      <td>34</td>\n",
              "      <td>Joined</td>\n",
              "    </tr>\n",
              "    <tr>\n",
              "      <th>...</th>\n",
              "      <td>...</td>\n",
              "      <td>...</td>\n",
              "      <td>...</td>\n",
              "      <td>...</td>\n",
              "      <td>...</td>\n",
              "      <td>...</td>\n",
              "      <td>...</td>\n",
              "      <td>...</td>\n",
              "      <td>...</td>\n",
              "      <td>...</td>\n",
              "      <td>...</td>\n",
              "      <td>...</td>\n",
              "      <td>...</td>\n",
              "      <td>...</td>\n",
              "      <td>...</td>\n",
              "      <td>...</td>\n",
              "    </tr>\n",
              "    <tr>\n",
              "      <th>8993</th>\n",
              "      <td>No</td>\n",
              "      <td>0</td>\n",
              "      <td>30</td>\n",
              "      <td>E1</td>\n",
              "      <td>76.92</td>\n",
              "      <td>53.85</td>\n",
              "      <td>-13.04</td>\n",
              "      <td>No</td>\n",
              "      <td>No</td>\n",
              "      <td>Male</td>\n",
              "      <td>Direct</td>\n",
              "      <td>4</td>\n",
              "      <td>INFRA</td>\n",
              "      <td>Noida</td>\n",
              "      <td>34</td>\n",
              "      <td>Joined</td>\n",
              "    </tr>\n",
              "    <tr>\n",
              "      <th>8994</th>\n",
              "      <td>No</td>\n",
              "      <td>2</td>\n",
              "      <td>0</td>\n",
              "      <td>E1</td>\n",
              "      <td>45.25</td>\n",
              "      <td>14.09</td>\n",
              "      <td>-21.45</td>\n",
              "      <td>No</td>\n",
              "      <td>No</td>\n",
              "      <td>Female</td>\n",
              "      <td>Employee Referral</td>\n",
              "      <td>1</td>\n",
              "      <td>INFRA</td>\n",
              "      <td>Chennai</td>\n",
              "      <td>34</td>\n",
              "      <td>Joined</td>\n",
              "    </tr>\n",
              "    <tr>\n",
              "      <th>8995</th>\n",
              "      <td>No</td>\n",
              "      <td>4</td>\n",
              "      <td>0</td>\n",
              "      <td>E1</td>\n",
              "      <td>191.67</td>\n",
              "      <td>191.67</td>\n",
              "      <td>0.00</td>\n",
              "      <td>No</td>\n",
              "      <td>No</td>\n",
              "      <td>Male</td>\n",
              "      <td>Employee Referral</td>\n",
              "      <td>1</td>\n",
              "      <td>ERS</td>\n",
              "      <td>Chennai</td>\n",
              "      <td>34</td>\n",
              "      <td>Joined</td>\n",
              "    </tr>\n",
              "    <tr>\n",
              "      <th>8996</th>\n",
              "      <td>No</td>\n",
              "      <td>5</td>\n",
              "      <td>0</td>\n",
              "      <td>E2</td>\n",
              "      <td>20.00</td>\n",
              "      <td>10.00</td>\n",
              "      <td>-8.33</td>\n",
              "      <td>No</td>\n",
              "      <td>No</td>\n",
              "      <td>Male</td>\n",
              "      <td>Direct</td>\n",
              "      <td>8</td>\n",
              "      <td>ETS</td>\n",
              "      <td>Noida</td>\n",
              "      <td>34</td>\n",
              "      <td>Joined</td>\n",
              "    </tr>\n",
              "    <tr>\n",
              "      <th>8997</th>\n",
              "      <td>Yes</td>\n",
              "      <td>4</td>\n",
              "      <td>30</td>\n",
              "      <td>E1</td>\n",
              "      <td>30.95</td>\n",
              "      <td>23.81</td>\n",
              "      <td>-5.45</td>\n",
              "      <td>No</td>\n",
              "      <td>No</td>\n",
              "      <td>Male</td>\n",
              "      <td>Direct</td>\n",
              "      <td>4</td>\n",
              "      <td>ETS</td>\n",
              "      <td>Bangalore</td>\n",
              "      <td>26</td>\n",
              "      <td>Joined</td>\n",
              "    </tr>\n",
              "  </tbody>\n",
              "</table>\n",
              "<p>8998 rows × 16 columns</p>\n",
              "</div>"
            ],
            "text/plain": [
              "     DOJ.Extended  Duration.to.accept.offer  ...  Age  Status\n",
              "0             Yes                        14  ...   34  Joined\n",
              "1              No                        18  ...   34  Joined\n",
              "2              No                         3  ...   27  Joined\n",
              "3              No                        26  ...   34  Joined\n",
              "4             Yes                         1  ...   34  Joined\n",
              "...           ...                       ...  ...  ...     ...\n",
              "8993           No                         0  ...   34  Joined\n",
              "8994           No                         2  ...   34  Joined\n",
              "8995           No                         4  ...   34  Joined\n",
              "8996           No                         5  ...   34  Joined\n",
              "8997          Yes                         4  ...   26  Joined\n",
              "\n",
              "[8998 rows x 16 columns]"
            ]
          },
          "metadata": {
            "tags": []
          },
          "execution_count": 4
        }
      ]
    },
    {
      "cell_type": "code",
      "metadata": {
        "colab_type": "code",
        "id": "O4b5tCye_MlI",
        "colab": {
          "base_uri": "https://localhost:8080/",
          "height": 1000
        },
        "outputId": "f7b00f61-d365-404d-e453-654f23070660"
      },
      "source": [
        "g=sns.FacetGrid(hr_churn,col=\"Candidate.Source\",row='LOB',margin_titles=True,hue=\"Gender\")\n",
        "g=g.map(plt.hist,\"Status\")\n",
        "plt.show(g)"
      ],
      "execution_count": null,
      "outputs": [
        {
          "output_type": "display_data",
          "data": {
            "image/png": "[encoded data removed]",
            "text/plain": [
              "<Figure size 648x1944 with 27 Axes>"
            ]
          },
          "metadata": {
            "tags": [],
            "needs_background": "light"
          }
        }
      ]
    },
    {
      "cell_type": "code",
      "metadata": {
        "colab_type": "code",
        "id": "LCFBP8DGCUWo",
        "colab": {
          "base_uri": "https://localhost:8080/",
          "height": 202
        },
        "outputId": "f438d06f-bc59-41c8-a5cf-941d1b42eecb"
      },
      "source": [
        "plt.figure(figsize=(20,20))\n",
        "g=sns.FacetGrid(hr_churn,col='Location',row=\"Candidate.relocate.actual\",margin_titles=True,hue=\"Gender\")\n",
        "g=g.map(plt.hist,\"Status\")\n",
        "plt.show()"
      ],
      "execution_count": null,
      "outputs": [
        {
          "output_type": "display_data",
          "data": {
            "text/plain": [
              "<Figure size 1440x1440 with 0 Axes>"
            ]
          },
          "metadata": {
            "tags": []
          }
        },
        {
          "output_type": "display_data",
          "data": {
            "image/png": "[encoded data removed]",
            "text/plain": [
              "<Figure size 2376x432 with 22 Axes>"
            ]
          },
          "metadata": {
            "tags": [],
            "needs_background": "light"
          }
        }
      ]
    },
    {
      "cell_type": "markdown",
      "metadata": {
        "colab_type": "text",
        "id": "LETFEg_WF_OO"
      },
      "source": [
        "#encoding dependent categorical variable into numeric\n"
      ]
    },
    {
      "cell_type": "code",
      "metadata": {
        "colab_type": "code",
        "id": "yTGP_ft6zSi_",
        "colab": {
          "base_uri": "https://localhost:8080/",
          "height": 68
        },
        "outputId": "56d20c51-6c40-4f4b-ba4f-5325df6a58b3"
      },
      "source": [
        "from sklearn.preprocessing import LabelEncoder\n",
        "encoder=LabelEncoder()\n",
        "hr_churn[\"Status\"]=encoder.fit_transform(hr_churn[\"Status\"])\n",
        "hr_churn[\"Status\"].value_counts()"
      ],
      "execution_count": null,
      "outputs": [
        {
          "output_type": "execute_result",
          "data": {
            "text/plain": [
              "0    7316\n",
              "1    1682\n",
              "Name: Status, dtype: int64"
            ]
          },
          "metadata": {
            "tags": []
          },
          "execution_count": 7
        }
      ]
    },
    {
      "cell_type": "markdown",
      "metadata": {
        "colab_type": "text",
        "id": "tdOD9_VGF0W-"
      },
      "source": [
        "#checking correlation b/w numerical variables\n"
      ]
    },
    {
      "cell_type": "code",
      "metadata": {
        "colab_type": "code",
        "id": "zdr4Oseazuyr",
        "colab": {
          "base_uri": "https://localhost:8080/",
          "height": 987
        },
        "outputId": "7a0137f6-6302-48be-b67b-fb56fafcc04c"
      },
      "source": [
        "plt.figure(figsize=(15,15))\n",
        "sns.heatmap(hr_churn.corr(),annot=True,cmap=\"Oranges\")\n",
        "plt.show()"
      ],
      "execution_count": null,
      "outputs": [
        {
          "output_type": "display_data",
          "data": {
            "image/png": "[encoded data removed]",
            "text/plain": [
              "<Figure size 1080x1080 with 2 Axes>"
            ]
          },
          "metadata": {
            "tags": [],
            "needs_background": "light"
          }
        }
      ]
    },
    {
      "cell_type": "code",
      "metadata": {
        "colab_type": "code",
        "id": "6h_aLDZtsl6S",
        "colab": {
          "base_uri": "https://localhost:8080/",
          "height": 85
        },
        "outputId": "1aac7a44-7574-486e-c516-024212b6b471"
      },
      "source": [
        "num_df= hr_churn._get_numeric_data()\n",
        "num_col=num_df.columns\n",
        "num_col"
      ],
      "execution_count": null,
      "outputs": [
        {
          "output_type": "execute_result",
          "data": {
            "text/plain": [
              "Index(['Duration.to.accept.offer', 'Notice.period',\n",
              "       'Pecent.hike.expected.in.CTC', 'Percent.hike.offered.in.CTC',\n",
              "       'Percent.difference.CTC', 'Rex.in.Yrs', 'Age', 'Status'],\n",
              "      dtype='object')"
            ]
          },
          "metadata": {
            "tags": []
          },
          "execution_count": 9
        }
      ]
    },
    {
      "cell_type": "code",
      "metadata": {
        "colab_type": "code",
        "id": "fHqCUEEBtNzZ",
        "colab": {
          "base_uri": "https://localhost:8080/",
          "height": 54
        },
        "outputId": "d152b59e-e33e-4c2f-8907-a6947a0ea206"
      },
      "source": [
        "cat_col=[]\n",
        "for i in hr_churn.columns:\n",
        "  if i not in num_col:\n",
        "    cat_col.append(i)\n",
        "print(cat_col)\n",
        "\n",
        "\n"
      ],
      "execution_count": null,
      "outputs": [
        {
          "output_type": "stream",
          "text": [
            "['DOJ.Extended', 'Offered.band', 'Joining.Bonus', 'Candidate.relocate.actual', 'Gender', 'Candidate.Source', 'LOB', 'Location']\n"
          ],
          "name": "stdout"
        }
      ]
    },
    {
      "cell_type": "markdown",
      "metadata": {
        "colab_type": "text",
        "id": "Im8PGgu9Ee8T"
      },
      "source": [
        "# **Performing chi2 test inorder to know the relation b/w independent and dependent categorical variables**"
      ]
    },
    {
      "cell_type": "code",
      "metadata": {
        "colab_type": "code",
        "id": "Ex-zFDs_quXk",
        "colab": {
          "base_uri": "https://localhost:8080/",
          "height": 119
        },
        "outputId": "806740d5-945a-4d0b-9818-335edf6862df"
      },
      "source": [
        "from scipy.stats import chi2_contingency\n",
        "target_related_cols=[]\n",
        "for i in cat_col:\n",
        "   if i in hr_churn.columns:\n",
        "      cross_table=pd.crosstab( hr_churn.loc[:,i],hr_churn[\"Status\"])\n",
        "      obs=cross_table.values\n",
        "      chi2, p, dof, ex = chi2_contingency(obs, correction=False)\n",
        "      if p < 0.05:\n",
        "        print(\"Null statement:\" ,i ,\" is rejected \",\" which means it has some association with the target variable\")\n",
        "        target_related_cols.append(i)\n",
        "print(target_related_cols)"
      ],
      "execution_count": null,
      "outputs": [
        {
          "output_type": "stream",
          "text": [
            "Null statement: Offered.band  is rejected   which means it has some association with the target variable\n",
            "Null statement: Candidate.relocate.actual  is rejected   which means it has some association with the target variable\n",
            "Null statement: Candidate.Source  is rejected   which means it has some association with the target variable\n",
            "Null statement: LOB  is rejected   which means it has some association with the target variable\n",
            "Null statement: Location  is rejected   which means it has some association with the target variable\n",
            "['Offered.band', 'Candidate.relocate.actual', 'Candidate.Source', 'LOB', 'Location']\n"
          ],
          "name": "stdout"
        }
      ]
    },
    {
      "cell_type": "code",
      "metadata": {
        "colab_type": "code",
        "id": "jdVcG8YdvUXd",
        "colab": {
          "base_uri": "https://localhost:8080/",
          "height": 441
        },
        "outputId": "9b3d00c4-9427-49dc-ef44-1d89680cb864"
      },
      "source": [
        "g=sns.FacetGrid(hr_churn,col=\"DOJ.Extended\",row='Gender',hue=\"Gender\",margin_titles=True)\n",
        "g=g.map(plt.hist,\"Status\")"
      ],
      "execution_count": null,
      "outputs": [
        {
          "output_type": "display_data",
          "data": {
            "image/png": "[encoded data removed]",
            "text/plain": [
              "<Figure size 432x432 with 4 Axes>"
            ]
          },
          "metadata": {
            "tags": [],
            "needs_background": "light"
          }
        }
      ]
    },
    {
      "cell_type": "markdown",
      "metadata": {
        "colab_type": "text",
        "id": "tILPlqaNJkN3"
      },
      "source": [
        "Many of the male and female would backout of the job when DOJ extension is not given"
      ]
    },
    {
      "cell_type": "code",
      "metadata": {
        "colab_type": "code",
        "id": "tZLRcz938IFf",
        "colab": {
          "base_uri": "https://localhost:8080/",
          "height": 441
        },
        "outputId": "1eb1c898-416d-4100-a9f1-7e31497f9d5c"
      },
      "source": [
        "g=sns.FacetGrid(hr_churn,col='Joining.Bonus',row='Gender',hue=\"Gender\",margin_titles=True)\n",
        "g=g.map(plt.hist,\"Status\")"
      ],
      "execution_count": null,
      "outputs": [
        {
          "output_type": "display_data",
          "data": {
            "image/png": "[encoded data removed]",
            "text/plain": [
              "<Figure size 432x432 with 4 Axes>"
            ]
          },
          "metadata": {
            "tags": [],
            "needs_background": "light"
          }
        }
      ]
    },
    {
      "cell_type": "markdown",
      "metadata": {
        "colab_type": "text",
        "id": "yfiuIKzIJ8O1"
      },
      "source": [
        "People would back out when  joining Bonus is not given"
      ]
    },
    {
      "cell_type": "markdown",
      "metadata": {
        "colab_type": "text",
        "id": "xUskYQHKFKba"
      },
      "source": [
        "# Encoding the  required categorical variables into numerical variables"
      ]
    },
    {
      "cell_type": "markdown",
      "metadata": {
        "colab_type": "text",
        "id": "gmpW0q6U2RRY"
      },
      "source": [
        "# Data after removing unnecessary columns"
      ]
    },
    {
      "cell_type": "code",
      "metadata": {
        "colab_type": "code",
        "id": "pUeUDke22aNr",
        "colab": {
          "base_uri": "https://localhost:8080/",
          "height": 241
        },
        "outputId": "29092f25-376b-45f6-92e9-100fe239a1b3"
      },
      "source": [
        "new_data=num_df.join(hr_churn[target_related_cols])\n",
        "new_data=new_data.drop(\"Status\",axis=1)\n",
        "print(new_data.shape)\n",
        "x=new_data\n",
        "y=hr_churn[\"Status\"]\n",
        "x.head()"
      ],
      "execution_count": null,
      "outputs": [
        {
          "output_type": "stream",
          "text": [
            "(8998, 12)\n"
          ],
          "name": "stdout"
        },
        {
          "output_type": "execute_result",
          "data": {
            "text/html": [
              "<div>\n",
              "<style scoped>\n",
              "    .dataframe tbody tr th:only-of-type {\n",
              "        vertical-align: middle;\n",
              "    }\n",
              "\n",
              "    .dataframe tbody tr th {\n",
              "        vertical-align: top;\n",
              "    }\n",
              "\n",
              "    .dataframe thead th {\n",
              "        text-align: right;\n",
              "    }\n",
              "</style>\n",
              "<table border=\"1\" class=\"dataframe\">\n",
              "  <thead>\n",
              "    <tr style=\"text-align: right;\">\n",
              "      <th></th>\n",
              "      <th>Duration.to.accept.offer</th>\n",
              "      <th>Notice.period</th>\n",
              "      <th>Pecent.hike.expected.in.CTC</th>\n",
              "      <th>Percent.hike.offered.in.CTC</th>\n",
              "      <th>Percent.difference.CTC</th>\n",
              "      <th>Rex.in.Yrs</th>\n",
              "      <th>Age</th>\n",
              "      <th>Offered.band</th>\n",
              "      <th>Candidate.relocate.actual</th>\n",
              "      <th>Candidate.Source</th>\n",
              "      <th>LOB</th>\n",
              "      <th>Location</th>\n",
              "    </tr>\n",
              "  </thead>\n",
              "  <tbody>\n",
              "    <tr>\n",
              "      <th>0</th>\n",
              "      <td>14</td>\n",
              "      <td>30</td>\n",
              "      <td>-20.79</td>\n",
              "      <td>13.16</td>\n",
              "      <td>42.86</td>\n",
              "      <td>7</td>\n",
              "      <td>34</td>\n",
              "      <td>E2</td>\n",
              "      <td>No</td>\n",
              "      <td>Agency</td>\n",
              "      <td>ERS</td>\n",
              "      <td>Noida</td>\n",
              "    </tr>\n",
              "    <tr>\n",
              "      <th>1</th>\n",
              "      <td>18</td>\n",
              "      <td>30</td>\n",
              "      <td>50.00</td>\n",
              "      <td>320.00</td>\n",
              "      <td>180.00</td>\n",
              "      <td>8</td>\n",
              "      <td>34</td>\n",
              "      <td>E2</td>\n",
              "      <td>No</td>\n",
              "      <td>Employee Referral</td>\n",
              "      <td>INFRA</td>\n",
              "      <td>Chennai</td>\n",
              "    </tr>\n",
              "    <tr>\n",
              "      <th>2</th>\n",
              "      <td>3</td>\n",
              "      <td>45</td>\n",
              "      <td>42.84</td>\n",
              "      <td>42.84</td>\n",
              "      <td>0.00</td>\n",
              "      <td>4</td>\n",
              "      <td>27</td>\n",
              "      <td>E2</td>\n",
              "      <td>No</td>\n",
              "      <td>Agency</td>\n",
              "      <td>INFRA</td>\n",
              "      <td>Noida</td>\n",
              "    </tr>\n",
              "    <tr>\n",
              "      <th>3</th>\n",
              "      <td>26</td>\n",
              "      <td>30</td>\n",
              "      <td>42.84</td>\n",
              "      <td>42.84</td>\n",
              "      <td>0.00</td>\n",
              "      <td>4</td>\n",
              "      <td>34</td>\n",
              "      <td>E2</td>\n",
              "      <td>No</td>\n",
              "      <td>Employee Referral</td>\n",
              "      <td>INFRA</td>\n",
              "      <td>Noida</td>\n",
              "    </tr>\n",
              "    <tr>\n",
              "      <th>4</th>\n",
              "      <td>1</td>\n",
              "      <td>120</td>\n",
              "      <td>42.59</td>\n",
              "      <td>42.59</td>\n",
              "      <td>0.00</td>\n",
              "      <td>6</td>\n",
              "      <td>34</td>\n",
              "      <td>E2</td>\n",
              "      <td>Yes</td>\n",
              "      <td>Employee Referral</td>\n",
              "      <td>INFRA</td>\n",
              "      <td>Noida</td>\n",
              "    </tr>\n",
              "  </tbody>\n",
              "</table>\n",
              "</div>"
            ],
            "text/plain": [
              "   Duration.to.accept.offer  Notice.period  ...    LOB  Location\n",
              "0                        14             30  ...    ERS     Noida\n",
              "1                        18             30  ...  INFRA   Chennai\n",
              "2                         3             45  ...  INFRA     Noida\n",
              "3                        26             30  ...  INFRA     Noida\n",
              "4                         1            120  ...  INFRA     Noida\n",
              "\n",
              "[5 rows x 12 columns]"
            ]
          },
          "metadata": {
            "tags": []
          },
          "execution_count": 14
        }
      ]
    },
    {
      "cell_type": "code",
      "metadata": {
        "colab_type": "code",
        "id": "H6pnxixbp80r",
        "colab": {
          "base_uri": "https://localhost:8080/",
          "height": 119
        },
        "outputId": "7b82d693-3afd-453c-97ee-e8a920b4f4b2"
      },
      "source": [
        "print(x[\"LOB\"].unique())\n",
        "print(x[\"Candidate.Source\"].unique())\n",
        "print(x['Location'].unique())\n",
        "print(x[\"Offered.band\"].unique())\n",
        "print(x[\"Candidate.relocate.actual\"].unique())"
      ],
      "execution_count": null,
      "outputs": [
        {
          "output_type": "stream",
          "text": [
            "['ERS' 'INFRA' 'Healthcare' 'BFSI' 'CSMP' 'ETS' 'AXON' 'EAS' 'MMS']\n",
            "['Agency' 'Employee Referral' 'Direct']\n",
            "['Noida' 'Chennai' 'Gurgaon' 'Bangalore' 'Hyderabad' 'Kolkata' 'Cochin'\n",
            " 'Pune' 'Others' 'Mumbai' 'Ahmedabad']\n",
            "['E2' 'E1' 'E3' 'E0']\n",
            "['No' 'Yes']\n"
          ],
          "name": "stdout"
        }
      ]
    },
    {
      "cell_type": "code",
      "metadata": {
        "colab_type": "code",
        "id": "5hRL0Yy6pmOB",
        "colab": {
          "base_uri": "https://localhost:8080/",
          "height": 224
        },
        "outputId": "82d17dc7-352f-47ee-a7df-c02aa7228e41"
      },
      "source": [
        "from sklearn.preprocessing import OneHotEncoder,OrdinalEncoder\n",
        "encoder1=OneHotEncoder(handle_unknown=\"ignore\",sparse=False)\n",
        "encoder2=OrdinalEncoder()\n",
        "x[\"Candidate.relocate.actual\"]=encoder.fit_transform(x[[\"Candidate.relocate.actual\"]])\n",
        "x.head()\n"
      ],
      "execution_count": null,
      "outputs": [
        {
          "output_type": "execute_result",
          "data": {
            "text/html": [
              "<div>\n",
              "<style scoped>\n",
              "    .dataframe tbody tr th:only-of-type {\n",
              "        vertical-align: middle;\n",
              "    }\n",
              "\n",
              "    .dataframe tbody tr th {\n",
              "        vertical-align: top;\n",
              "    }\n",
              "\n",
              "    .dataframe thead th {\n",
              "        text-align: right;\n",
              "    }\n",
              "</style>\n",
              "<table border=\"1\" class=\"dataframe\">\n",
              "  <thead>\n",
              "    <tr style=\"text-align: right;\">\n",
              "      <th></th>\n",
              "      <th>Duration.to.accept.offer</th>\n",
              "      <th>Notice.period</th>\n",
              "      <th>Pecent.hike.expected.in.CTC</th>\n",
              "      <th>Percent.hike.offered.in.CTC</th>\n",
              "      <th>Percent.difference.CTC</th>\n",
              "      <th>Rex.in.Yrs</th>\n",
              "      <th>Age</th>\n",
              "      <th>Offered.band</th>\n",
              "      <th>Candidate.relocate.actual</th>\n",
              "      <th>Candidate.Source</th>\n",
              "      <th>LOB</th>\n",
              "      <th>Location</th>\n",
              "    </tr>\n",
              "  </thead>\n",
              "  <tbody>\n",
              "    <tr>\n",
              "      <th>0</th>\n",
              "      <td>14</td>\n",
              "      <td>30</td>\n",
              "      <td>-20.79</td>\n",
              "      <td>13.16</td>\n",
              "      <td>42.86</td>\n",
              "      <td>7</td>\n",
              "      <td>34</td>\n",
              "      <td>E2</td>\n",
              "      <td>0</td>\n",
              "      <td>Agency</td>\n",
              "      <td>ERS</td>\n",
              "      <td>Noida</td>\n",
              "    </tr>\n",
              "    <tr>\n",
              "      <th>1</th>\n",
              "      <td>18</td>\n",
              "      <td>30</td>\n",
              "      <td>50.00</td>\n",
              "      <td>320.00</td>\n",
              "      <td>180.00</td>\n",
              "      <td>8</td>\n",
              "      <td>34</td>\n",
              "      <td>E2</td>\n",
              "      <td>0</td>\n",
              "      <td>Employee Referral</td>\n",
              "      <td>INFRA</td>\n",
              "      <td>Chennai</td>\n",
              "    </tr>\n",
              "    <tr>\n",
              "      <th>2</th>\n",
              "      <td>3</td>\n",
              "      <td>45</td>\n",
              "      <td>42.84</td>\n",
              "      <td>42.84</td>\n",
              "      <td>0.00</td>\n",
              "      <td>4</td>\n",
              "      <td>27</td>\n",
              "      <td>E2</td>\n",
              "      <td>0</td>\n",
              "      <td>Agency</td>\n",
              "      <td>INFRA</td>\n",
              "      <td>Noida</td>\n",
              "    </tr>\n",
              "    <tr>\n",
              "      <th>3</th>\n",
              "      <td>26</td>\n",
              "      <td>30</td>\n",
              "      <td>42.84</td>\n",
              "      <td>42.84</td>\n",
              "      <td>0.00</td>\n",
              "      <td>4</td>\n",
              "      <td>34</td>\n",
              "      <td>E2</td>\n",
              "      <td>0</td>\n",
              "      <td>Employee Referral</td>\n",
              "      <td>INFRA</td>\n",
              "      <td>Noida</td>\n",
              "    </tr>\n",
              "    <tr>\n",
              "      <th>4</th>\n",
              "      <td>1</td>\n",
              "      <td>120</td>\n",
              "      <td>42.59</td>\n",
              "      <td>42.59</td>\n",
              "      <td>0.00</td>\n",
              "      <td>6</td>\n",
              "      <td>34</td>\n",
              "      <td>E2</td>\n",
              "      <td>1</td>\n",
              "      <td>Employee Referral</td>\n",
              "      <td>INFRA</td>\n",
              "      <td>Noida</td>\n",
              "    </tr>\n",
              "  </tbody>\n",
              "</table>\n",
              "</div>"
            ],
            "text/plain": [
              "   Duration.to.accept.offer  Notice.period  ...    LOB  Location\n",
              "0                        14             30  ...    ERS     Noida\n",
              "1                        18             30  ...  INFRA   Chennai\n",
              "2                         3             45  ...  INFRA     Noida\n",
              "3                        26             30  ...  INFRA     Noida\n",
              "4                         1            120  ...  INFRA     Noida\n",
              "\n",
              "[5 rows x 12 columns]"
            ]
          },
          "metadata": {
            "tags": []
          },
          "execution_count": 16
        }
      ]
    },
    {
      "cell_type": "code",
      "metadata": {
        "colab_type": "code",
        "id": "Dh_NNyzEXdz-",
        "colab": {
          "base_uri": "https://localhost:8080/",
          "height": 34
        },
        "outputId": "962bb32b-da11-438e-c8f6-8a1b0eadaaa1"
      },
      "source": [
        "x.shape"
      ],
      "execution_count": null,
      "outputs": [
        {
          "output_type": "execute_result",
          "data": {
            "text/plain": [
              "(8998, 12)"
            ]
          },
          "metadata": {
            "tags": []
          },
          "execution_count": 17
        }
      ]
    },
    {
      "cell_type": "code",
      "metadata": {
        "colab_type": "code",
        "id": "p9lmsQ_bXd0B",
        "colab": {
          "base_uri": "https://localhost:8080/",
          "height": 136
        },
        "outputId": "b7facb5c-6109-4ca7-c817-a55c8a00511a"
      },
      "source": [
        "k=encoder1.fit_transform(x[[\"Offered.band\"]])\n",
        "name=encoder1.get_feature_names([\"Offered.band\"])\n",
        "K=pd.DataFrame(k,columns=name)\n",
        "print(K.head())\n",
        "x=pd.concat([x,K], axis=1)\n",
        "x=x.drop([\"Offered.band\",\"Offered.band_E0\"],axis=1)\n",
        "x.head()\n",
        "x.shape"
      ],
      "execution_count": null,
      "outputs": [
        {
          "output_type": "stream",
          "text": [
            "   Offered.band_E0  Offered.band_E1  Offered.band_E2  Offered.band_E3\n",
            "0              0.0              0.0              1.0              0.0\n",
            "1              0.0              0.0              1.0              0.0\n",
            "2              0.0              0.0              1.0              0.0\n",
            "3              0.0              0.0              1.0              0.0\n",
            "4              0.0              0.0              1.0              0.0\n"
          ],
          "name": "stdout"
        },
        {
          "output_type": "execute_result",
          "data": {
            "text/plain": [
              "(8998, 14)"
            ]
          },
          "metadata": {
            "tags": []
          },
          "execution_count": 18
        }
      ]
    },
    {
      "cell_type": "code",
      "metadata": {
        "colab_type": "code",
        "id": "fQYqT_ZBIx1o",
        "colab": {
          "base_uri": "https://localhost:8080/",
          "height": 170
        },
        "outputId": "4d3a29c3-24a0-4b22-9983-d61901f77308"
      },
      "source": [
        "k=encoder1.fit_transform(x[[\"Candidate.Source\"]])\n",
        "name=encoder1.get_feature_names([\"Candidate.Source\"])\n",
        "K=pd.DataFrame(k,columns=name)\n",
        "print(K.head())\n",
        "x=pd.concat([x,K], axis=1)\n",
        "x=x.drop([\"Candidate.Source\",'Candidate.Source_Agency'],axis=1)\n",
        "x.head()\n",
        "x.shape"
      ],
      "execution_count": null,
      "outputs": [
        {
          "output_type": "stream",
          "text": [
            "   Candidate.Source_Agency  ...  Candidate.Source_Employee Referral\n",
            "0                      1.0  ...                                 0.0\n",
            "1                      0.0  ...                                 1.0\n",
            "2                      1.0  ...                                 0.0\n",
            "3                      0.0  ...                                 1.0\n",
            "4                      0.0  ...                                 1.0\n",
            "\n",
            "[5 rows x 3 columns]\n"
          ],
          "name": "stdout"
        },
        {
          "output_type": "execute_result",
          "data": {
            "text/plain": [
              "(8998, 15)"
            ]
          },
          "metadata": {
            "tags": []
          },
          "execution_count": 19
        }
      ]
    },
    {
      "cell_type": "code",
      "metadata": {
        "colab_type": "code",
        "id": "0jJ2seRdXd0G",
        "colab": {
          "base_uri": "https://localhost:8080/",
          "height": 170
        },
        "outputId": "b0b9d229-e7ee-423b-b176-e7994c4bfcd5"
      },
      "source": [
        "k=encoder1.fit_transform(x[[\"LOB\"]])\n",
        "name=encoder1.get_feature_names([\"LOB\"])\n",
        "K=pd.DataFrame(k,columns=name)\n",
        "print(K.head())\n",
        "x=pd.concat([x,K], axis=1)\n",
        "x=x.drop([\"LOB\",\"LOB_AXON\"],axis=1)\n",
        "x.head()\n",
        "x.shape"
      ],
      "execution_count": null,
      "outputs": [
        {
          "output_type": "stream",
          "text": [
            "   LOB_AXON  LOB_BFSI  LOB_CSMP  ...  LOB_Healthcare  LOB_INFRA  LOB_MMS\n",
            "0       0.0       0.0       0.0  ...             0.0        0.0      0.0\n",
            "1       0.0       0.0       0.0  ...             0.0        1.0      0.0\n",
            "2       0.0       0.0       0.0  ...             0.0        1.0      0.0\n",
            "3       0.0       0.0       0.0  ...             0.0        1.0      0.0\n",
            "4       0.0       0.0       0.0  ...             0.0        1.0      0.0\n",
            "\n",
            "[5 rows x 9 columns]\n"
          ],
          "name": "stdout"
        },
        {
          "output_type": "execute_result",
          "data": {
            "text/plain": [
              "(8998, 22)"
            ]
          },
          "metadata": {
            "tags": []
          },
          "execution_count": 20
        }
      ]
    },
    {
      "cell_type": "code",
      "metadata": {
        "colab_type": "code",
        "id": "MlsLAFOaXd0J",
        "colab": {
          "base_uri": "https://localhost:8080/",
          "height": 170
        },
        "outputId": "bdbef76a-d2d0-4c63-eea8-db531fb6ae4b"
      },
      "source": [
        "k=encoder1.fit_transform(x[[\"Location\"]])\n",
        "name=encoder1.get_feature_names([\"Location\"])\n",
        "K=pd.DataFrame(k,columns=name)\n",
        "print(K.head())\n",
        "x=pd.concat([x,K], axis=1)\n",
        "x=x.drop([\"Location\",\"Location_Ahmedabad\"],axis=1)\n",
        "x.head()\n",
        "x.shape"
      ],
      "execution_count": null,
      "outputs": [
        {
          "output_type": "stream",
          "text": [
            "   Location_Ahmedabad  Location_Bangalore  ...  Location_Others  Location_Pune\n",
            "0                 0.0                 0.0  ...              0.0            0.0\n",
            "1                 0.0                 0.0  ...              0.0            0.0\n",
            "2                 0.0                 0.0  ...              0.0            0.0\n",
            "3                 0.0                 0.0  ...              0.0            0.0\n",
            "4                 0.0                 0.0  ...              0.0            0.0\n",
            "\n",
            "[5 rows x 11 columns]\n"
          ],
          "name": "stdout"
        },
        {
          "output_type": "execute_result",
          "data": {
            "text/plain": [
              "(8998, 31)"
            ]
          },
          "metadata": {
            "tags": []
          },
          "execution_count": 21
        }
      ]
    },
    {
      "cell_type": "code",
      "metadata": {
        "colab_type": "code",
        "id": "xpYaZ0WxKAUv",
        "colab": {
          "base_uri": "https://localhost:8080/",
          "height": 241
        },
        "outputId": "b3a534af-f787-443f-92e7-d5e7bc9dcf35"
      },
      "source": [
        "x.head()"
      ],
      "execution_count": null,
      "outputs": [
        {
          "output_type": "execute_result",
          "data": {
            "text/html": [
              "<div>\n",
              "<style scoped>\n",
              "    .dataframe tbody tr th:only-of-type {\n",
              "        vertical-align: middle;\n",
              "    }\n",
              "\n",
              "    .dataframe tbody tr th {\n",
              "        vertical-align: top;\n",
              "    }\n",
              "\n",
              "    .dataframe thead th {\n",
              "        text-align: right;\n",
              "    }\n",
              "</style>\n",
              "<table border=\"1\" class=\"dataframe\">\n",
              "  <thead>\n",
              "    <tr style=\"text-align: right;\">\n",
              "      <th></th>\n",
              "      <th>Duration.to.accept.offer</th>\n",
              "      <th>Notice.period</th>\n",
              "      <th>Pecent.hike.expected.in.CTC</th>\n",
              "      <th>Percent.hike.offered.in.CTC</th>\n",
              "      <th>Percent.difference.CTC</th>\n",
              "      <th>Rex.in.Yrs</th>\n",
              "      <th>Age</th>\n",
              "      <th>Candidate.relocate.actual</th>\n",
              "      <th>Offered.band_E1</th>\n",
              "      <th>Offered.band_E2</th>\n",
              "      <th>Offered.band_E3</th>\n",
              "      <th>Candidate.Source_Direct</th>\n",
              "      <th>Candidate.Source_Employee Referral</th>\n",
              "      <th>LOB_BFSI</th>\n",
              "      <th>LOB_CSMP</th>\n",
              "      <th>LOB_EAS</th>\n",
              "      <th>LOB_ERS</th>\n",
              "      <th>LOB_ETS</th>\n",
              "      <th>LOB_Healthcare</th>\n",
              "      <th>LOB_INFRA</th>\n",
              "      <th>LOB_MMS</th>\n",
              "      <th>Location_Bangalore</th>\n",
              "      <th>Location_Chennai</th>\n",
              "      <th>Location_Cochin</th>\n",
              "      <th>Location_Gurgaon</th>\n",
              "      <th>Location_Hyderabad</th>\n",
              "      <th>Location_Kolkata</th>\n",
              "      <th>Location_Mumbai</th>\n",
              "      <th>Location_Noida</th>\n",
              "      <th>Location_Others</th>\n",
              "      <th>Location_Pune</th>\n",
              "    </tr>\n",
              "  </thead>\n",
              "  <tbody>\n",
              "    <tr>\n",
              "      <th>0</th>\n",
              "      <td>14</td>\n",
              "      <td>30</td>\n",
              "      <td>-20.79</td>\n",
              "      <td>13.16</td>\n",
              "      <td>42.86</td>\n",
              "      <td>7</td>\n",
              "      <td>34</td>\n",
              "      <td>0</td>\n",
              "      <td>0.0</td>\n",
              "      <td>1.0</td>\n",
              "      <td>0.0</td>\n",
              "      <td>0.0</td>\n",
              "      <td>0.0</td>\n",
              "      <td>0.0</td>\n",
              "      <td>0.0</td>\n",
              "      <td>0.0</td>\n",
              "      <td>1.0</td>\n",
              "      <td>0.0</td>\n",
              "      <td>0.0</td>\n",
              "      <td>0.0</td>\n",
              "      <td>0.0</td>\n",
              "      <td>0.0</td>\n",
              "      <td>0.0</td>\n",
              "      <td>0.0</td>\n",
              "      <td>0.0</td>\n",
              "      <td>0.0</td>\n",
              "      <td>0.0</td>\n",
              "      <td>0.0</td>\n",
              "      <td>1.0</td>\n",
              "      <td>0.0</td>\n",
              "      <td>0.0</td>\n",
              "    </tr>\n",
              "    <tr>\n",
              "      <th>1</th>\n",
              "      <td>18</td>\n",
              "      <td>30</td>\n",
              "      <td>50.00</td>\n",
              "      <td>320.00</td>\n",
              "      <td>180.00</td>\n",
              "      <td>8</td>\n",
              "      <td>34</td>\n",
              "      <td>0</td>\n",
              "      <td>0.0</td>\n",
              "      <td>1.0</td>\n",
              "      <td>0.0</td>\n",
              "      <td>0.0</td>\n",
              "      <td>1.0</td>\n",
              "      <td>0.0</td>\n",
              "      <td>0.0</td>\n",
              "      <td>0.0</td>\n",
              "      <td>0.0</td>\n",
              "      <td>0.0</td>\n",
              "      <td>0.0</td>\n",
              "      <td>1.0</td>\n",
              "      <td>0.0</td>\n",
              "      <td>0.0</td>\n",
              "      <td>1.0</td>\n",
              "      <td>0.0</td>\n",
              "      <td>0.0</td>\n",
              "      <td>0.0</td>\n",
              "      <td>0.0</td>\n",
              "      <td>0.0</td>\n",
              "      <td>0.0</td>\n",
              "      <td>0.0</td>\n",
              "      <td>0.0</td>\n",
              "    </tr>\n",
              "    <tr>\n",
              "      <th>2</th>\n",
              "      <td>3</td>\n",
              "      <td>45</td>\n",
              "      <td>42.84</td>\n",
              "      <td>42.84</td>\n",
              "      <td>0.00</td>\n",
              "      <td>4</td>\n",
              "      <td>27</td>\n",
              "      <td>0</td>\n",
              "      <td>0.0</td>\n",
              "      <td>1.0</td>\n",
              "      <td>0.0</td>\n",
              "      <td>0.0</td>\n",
              "      <td>0.0</td>\n",
              "      <td>0.0</td>\n",
              "      <td>0.0</td>\n",
              "      <td>0.0</td>\n",
              "      <td>0.0</td>\n",
              "      <td>0.0</td>\n",
              "      <td>0.0</td>\n",
              "      <td>1.0</td>\n",
              "      <td>0.0</td>\n",
              "      <td>0.0</td>\n",
              "      <td>0.0</td>\n",
              "      <td>0.0</td>\n",
              "      <td>0.0</td>\n",
              "      <td>0.0</td>\n",
              "      <td>0.0</td>\n",
              "      <td>0.0</td>\n",
              "      <td>1.0</td>\n",
              "      <td>0.0</td>\n",
              "      <td>0.0</td>\n",
              "    </tr>\n",
              "    <tr>\n",
              "      <th>3</th>\n",
              "      <td>26</td>\n",
              "      <td>30</td>\n",
              "      <td>42.84</td>\n",
              "      <td>42.84</td>\n",
              "      <td>0.00</td>\n",
              "      <td>4</td>\n",
              "      <td>34</td>\n",
              "      <td>0</td>\n",
              "      <td>0.0</td>\n",
              "      <td>1.0</td>\n",
              "      <td>0.0</td>\n",
              "      <td>0.0</td>\n",
              "      <td>1.0</td>\n",
              "      <td>0.0</td>\n",
              "      <td>0.0</td>\n",
              "      <td>0.0</td>\n",
              "      <td>0.0</td>\n",
              "      <td>0.0</td>\n",
              "      <td>0.0</td>\n",
              "      <td>1.0</td>\n",
              "      <td>0.0</td>\n",
              "      <td>0.0</td>\n",
              "      <td>0.0</td>\n",
              "      <td>0.0</td>\n",
              "      <td>0.0</td>\n",
              "      <td>0.0</td>\n",
              "      <td>0.0</td>\n",
              "      <td>0.0</td>\n",
              "      <td>1.0</td>\n",
              "      <td>0.0</td>\n",
              "      <td>0.0</td>\n",
              "    </tr>\n",
              "    <tr>\n",
              "      <th>4</th>\n",
              "      <td>1</td>\n",
              "      <td>120</td>\n",
              "      <td>42.59</td>\n",
              "      <td>42.59</td>\n",
              "      <td>0.00</td>\n",
              "      <td>6</td>\n",
              "      <td>34</td>\n",
              "      <td>1</td>\n",
              "      <td>0.0</td>\n",
              "      <td>1.0</td>\n",
              "      <td>0.0</td>\n",
              "      <td>0.0</td>\n",
              "      <td>1.0</td>\n",
              "      <td>0.0</td>\n",
              "      <td>0.0</td>\n",
              "      <td>0.0</td>\n",
              "      <td>0.0</td>\n",
              "      <td>0.0</td>\n",
              "      <td>0.0</td>\n",
              "      <td>1.0</td>\n",
              "      <td>0.0</td>\n",
              "      <td>0.0</td>\n",
              "      <td>0.0</td>\n",
              "      <td>0.0</td>\n",
              "      <td>0.0</td>\n",
              "      <td>0.0</td>\n",
              "      <td>0.0</td>\n",
              "      <td>0.0</td>\n",
              "      <td>1.0</td>\n",
              "      <td>0.0</td>\n",
              "      <td>0.0</td>\n",
              "    </tr>\n",
              "  </tbody>\n",
              "</table>\n",
              "</div>"
            ],
            "text/plain": [
              "   Duration.to.accept.offer  Notice.period  ...  Location_Others  Location_Pune\n",
              "0                        14             30  ...              0.0            0.0\n",
              "1                        18             30  ...              0.0            0.0\n",
              "2                         3             45  ...              0.0            0.0\n",
              "3                        26             30  ...              0.0            0.0\n",
              "4                         1            120  ...              0.0            0.0\n",
              "\n",
              "[5 rows x 31 columns]"
            ]
          },
          "metadata": {
            "tags": []
          },
          "execution_count": 22
        }
      ]
    },
    {
      "cell_type": "code",
      "metadata": {
        "colab_type": "code",
        "id": "MzhuCLRo6KYp",
        "colab": {}
      },
      "source": [
        "from sklearn.model_selection import train_test_split\n",
        "x_train,x_test,y_train,y_test=train_test_split(x,y,train_size=0.7,random_state=1)"
      ],
      "execution_count": null,
      "outputs": []
    },
    {
      "cell_type": "code",
      "metadata": {
        "colab_type": "code",
        "id": "0d7nzrqV4Bz_",
        "colab": {}
      },
      "source": [
        "from sklearn.ensemble import RandomForestClassifier\n",
        "model=RandomForestClassifier(random_state=1,class_weight=\"balanced_subsample\")\n",
        "model.fit(x_train,y_train)\n",
        "y_pred=model.predict(x_test)"
      ],
      "execution_count": null,
      "outputs": []
    },
    {
      "cell_type": "code",
      "metadata": {
        "colab_type": "code",
        "id": "1byZGE6K80b1",
        "colab": {
          "base_uri": "https://localhost:8080/",
          "height": 544
        },
        "outputId": "292bfd1d-234c-45e9-f123-ac03e10e67f8"
      },
      "source": [
        "from sklearn.model_selection import GridSearchCV\n",
        "param_grid={'max_depth':[7,9,12,15],\n",
        "            'n_estimators':[5,10,50,100,200,500],\n",
        "            'max_features':[\"auto\",'sqrt','log2'],\n",
        "            'min_samples_split':[8,10,12],\n",
        "            'bootstrap':[\"True\"]}\n",
        "grid_search=GridSearchCV(estimator=model,param_grid=param_grid,cv=10,verbose=1,n_jobs=-1)\n",
        "grid_search.fit(x_train,y_train)\n",
        "#grid_search.get_params()\n",
        "#grid_search.best_estimator_"
      ],
      "execution_count": null,
      "outputs": [
        {
          "output_type": "stream",
          "text": [
            "Fitting 10 folds for each of 216 candidates, totalling 2160 fits\n"
          ],
          "name": "stdout"
        },
        {
          "output_type": "stream",
          "text": [
            "[Parallel(n_jobs=-1)]: Using backend LokyBackend with 2 concurrent workers.\n",
            "[Parallel(n_jobs=-1)]: Done  46 tasks      | elapsed:   14.8s\n",
            "[Parallel(n_jobs=-1)]: Done 196 tasks      | elapsed:  2.1min\n",
            "[Parallel(n_jobs=-1)]: Done 446 tasks      | elapsed:  4.8min\n",
            "[Parallel(n_jobs=-1)]: Done 796 tasks      | elapsed:  9.0min\n",
            "[Parallel(n_jobs=-1)]: Done 1246 tasks      | elapsed: 14.5min\n",
            "[Parallel(n_jobs=-1)]: Done 1796 tasks      | elapsed: 22.3min\n",
            "[Parallel(n_jobs=-1)]: Done 2160 out of 2160 | elapsed: 27.6min finished\n"
          ],
          "name": "stderr"
        },
        {
          "output_type": "execute_result",
          "data": {
            "text/plain": [
              "GridSearchCV(cv=10, error_score=nan,\n",
              "             estimator=RandomForestClassifier(bootstrap=True, ccp_alpha=0.0,\n",
              "                                              class_weight='balanced_subsample',\n",
              "                                              criterion='gini', max_depth=None,\n",
              "                                              max_features='auto',\n",
              "                                              max_leaf_nodes=None,\n",
              "                                              max_samples=None,\n",
              "                                              min_impurity_decrease=0.0,\n",
              "                                              min_impurity_split=None,\n",
              "                                              min_samples_leaf=1,\n",
              "                                              min_samples_split=2,\n",
              "                                              min_weight_fraction_leaf=0.0,\n",
              "                                              n_estimators=100, n_jobs=None,\n",
              "                                              oob_score=False, random_state=1,\n",
              "                                              verbose=0, warm_start=False),\n",
              "             iid='deprecated', n_jobs=-1,\n",
              "             param_grid={'bootstrap': ['True'], 'max_depth': [7, 9, 12, 15],\n",
              "                         'max_features': ['auto', 'sqrt', 'log2'],\n",
              "                         'min_samples_split': [8, 10, 12],\n",
              "                         'n_estimators': [5, 10, 50, 100, 200, 500]},\n",
              "             pre_dispatch='2*n_jobs', refit=True, return_train_score=False,\n",
              "             scoring=None, verbose=1)"
            ]
          },
          "metadata": {
            "tags": []
          },
          "execution_count": 27
        }
      ]
    },
    {
      "cell_type": "code",
      "metadata": {
        "id": "2ttcIdyxZ_hj",
        "colab_type": "code",
        "colab": {
          "base_uri": "https://localhost:8080/",
          "height": 102
        },
        "outputId": "b0b6ebdb-8347-4422-9ed2-8dcd4d2dc2a8"
      },
      "source": [
        "grid_search.best_params_"
      ],
      "execution_count": null,
      "outputs": [
        {
          "output_type": "execute_result",
          "data": {
            "text/plain": [
              "{'bootstrap': 'True',\n",
              " 'max_depth': 15,\n",
              " 'max_features': 'auto',\n",
              " 'min_samples_split': 8,\n",
              " 'n_estimators': 500}"
            ]
          },
          "metadata": {
            "tags": []
          },
          "execution_count": 28
        }
      ]
    },
    {
      "cell_type": "code",
      "metadata": {
        "id": "8NWY1NcpZ_hl",
        "colab_type": "code",
        "colab": {}
      },
      "source": [
        "from sklearn.ensemble import RandomForestClassifier\n",
        "model=RandomForestClassifier(random_state=1,max_depth=15,max_features=\"auto\",min_samples_split=8,n_estimators=500,class_weight=\"balanced_subsample\")\n",
        "model.fit(x_train,y_train)\n",
        "y_pred=model.predict(x_test)\n"
      ],
      "execution_count": null,
      "outputs": []
    },
    {
      "cell_type": "code",
      "metadata": {
        "colab_type": "code",
        "id": "E1CoKEqY6y8R",
        "colab": {
          "base_uri": "https://localhost:8080/",
          "height": 238
        },
        "outputId": "4f851e23-8f72-470f-dba5-67324000aad3"
      },
      "source": [
        "from sklearn.metrics import  accuracy_score, classification_report,roc_auc_score\n",
        "print(accuracy_score(y_test,y_pred))\n",
        "print()\n",
        "print(roc_auc_score(y_test,y_pred))\n",
        "print()\n",
        "print(classification_report(y_test,y_pred))"
      ],
      "execution_count": null,
      "outputs": [
        {
          "output_type": "stream",
          "text": [
            "0.7877777777777778\n",
            "\n",
            "0.6489182489832263\n",
            "\n",
            "              precision    recall  f1-score   support\n",
            "\n",
            "           0       0.87      0.87      0.87      2187\n",
            "           1       0.44      0.42      0.43       513\n",
            "\n",
            "    accuracy                           0.79      2700\n",
            "   macro avg       0.65      0.65      0.65      2700\n",
            "weighted avg       0.79      0.79      0.79      2700\n",
            "\n"
          ],
          "name": "stdout"
        }
      ]
    },
    {
      "cell_type": "markdown",
      "metadata": {
        "colab_type": "text",
        "id": "xYdbmd6Z8VVY"
      },
      "source": [
        "#Balancing imbalenced data using SMOTE (Over_sampling technique)"
      ]
    },
    {
      "cell_type": "code",
      "metadata": {
        "colab_type": "code",
        "id": "cBdjXTpvO78L",
        "colab": {
          "base_uri": "https://localhost:8080/",
          "height": 68
        },
        "outputId": "8b481d9d-9949-42d4-c46e-602d6a63281f"
      },
      "source": [
        "from imblearn.over_sampling import SMOTE\n",
        "sm=SMOTE(random_state=1,k_neighbors=5)\n",
        "X,Y=sm.fit_resample(x,y)\n",
        "X=pd.DataFrame(X,columns=x.columns.values)\n",
        "Y=pd.DataFrame(Y, columns=[\"Status\"])\n",
        "Y.Status.value_counts()\n"
      ],
      "execution_count": null,
      "outputs": [
        {
          "output_type": "execute_result",
          "data": {
            "text/plain": [
              "1    7316\n",
              "0    7316\n",
              "Name: Status, dtype: int64"
            ]
          },
          "metadata": {
            "tags": []
          },
          "execution_count": 31
        }
      ]
    },
    {
      "cell_type": "code",
      "metadata": {
        "colab_type": "code",
        "id": "mQWmzlWd99_P",
        "colab": {}
      },
      "source": [
        "from sklearn.model_selection import train_test_split\n",
        "X_train,X_test,Y_train,Y_test=train_test_split(X,Y,train_size=0.7,random_state=1)"
      ],
      "execution_count": null,
      "outputs": []
    },
    {
      "cell_type": "code",
      "metadata": {
        "colab_type": "code",
        "id": "1JQUA6FdEySb",
        "colab": {
          "base_uri": "https://localhost:8080/",
          "height": 85
        },
        "outputId": "de233b48-8558-419a-e0c6-789713297de7"
      },
      "source": [
        "from sklearn.ensemble import RandomForestClassifier\n",
        "model=RandomForestClassifier(random_state=1,n_estimators= 500,bootstrap= True,max_depth=15,max_features= 'auto',min_samples_split= 8,class_weight='balanced_subsample',verbose=1)\n",
        "model.fit(X_train,Y_train)\n",
        "Y_pred=model.predict(X_test)"
      ],
      "execution_count": null,
      "outputs": [
        {
          "output_type": "stream",
          "text": [
            "[Parallel(n_jobs=1)]: Using backend SequentialBackend with 1 concurrent workers.\n",
            "[Parallel(n_jobs=1)]: Done 500 out of 500 | elapsed:    7.1s finished\n",
            "[Parallel(n_jobs=1)]: Using backend SequentialBackend with 1 concurrent workers.\n",
            "[Parallel(n_jobs=1)]: Done 500 out of 500 | elapsed:    0.3s finished\n"
          ],
          "name": "stderr"
        }
      ]
    },
    {
      "cell_type": "code",
      "metadata": {
        "colab_type": "code",
        "id": "beVldf2PE_vf",
        "colab": {
          "base_uri": "https://localhost:8080/",
          "height": 238
        },
        "outputId": "f374af20-b28a-462a-f60c-05bfcc04669b"
      },
      "source": [
        "from sklearn.metrics import  accuracy_score, roc_auc_score\n",
        "print(accuracy_score(Y_test,Y_pred))\n",
        "print()\n",
        "print(roc_auc_score(Y_test,Y_pred))\n",
        "print()\n",
        "print(classification_report(Y_test,Y_pred))"
      ],
      "execution_count": null,
      "outputs": [
        {
          "output_type": "stream",
          "text": [
            "0.8851936218678815\n",
            "\n",
            "0.8861402745440596\n",
            "\n",
            "              precision    recall  f1-score   support\n",
            "\n",
            "           0       0.83      0.96      0.89      2168\n",
            "           1       0.96      0.81      0.88      2222\n",
            "\n",
            "    accuracy                           0.89      4390\n",
            "   macro avg       0.89      0.89      0.88      4390\n",
            "weighted avg       0.90      0.89      0.88      4390\n",
            "\n"
          ],
          "name": "stdout"
        }
      ]
    },
    {
      "cell_type": "markdown",
      "metadata": {
        "colab_type": "text",
        "id": "S3E63d0XIf_1"
      },
      "source": [
        "##accuracy of my model is is 88.52%  and it predicts 96% correct of the canditate joining the job \n",
        "\n"
      ]
    }
  ]
}