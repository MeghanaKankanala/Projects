{
  "nbformat": 4,
  "nbformat_minor": 0,
  "metadata": {
    "kernelspec": {
      "display_name": "Python 3",
      "language": "python",
      "name": "python3"
    },
    "language_info": {
      "codemirror_mode": {
        "name": "ipython",
        "version": 3
      },
      "file_extension": ".py",
      "mimetype": "text/x-python",
      "name": "python",
      "nbconvert_exporter": "python",
      "pygments_lexer": "ipython3",
      "version": "3.7.7"
    },
    "colab": {
      "name": "Bank_Marketing.ipynb",
      "provenance": [],
      "include_colab_link": true
    }
  },
  "cells": [
    {
      "cell_type": "markdown",
      "metadata": {
        "id": "view-in-github",
        "colab_type": "text"
      },
      "source": [
        "<a href=\"https://colab.research.google.com/github/MeghanaKankanala/Projects/blob/master/Bank_Marketing.ipynb\" target=\"_parent\"><img src=\"https://colab.research.google.com/assets/colab-badge.svg\" alt=\"Open In Colab\"/></a>"
      ]
    },
    {
      "cell_type": "code",
      "metadata": {
        "id": "VzqyXb4sqjZ2",
        "colab_type": "code",
        "colab": {}
      },
      "source": [
        "import numpy as np\n",
        "import pandas as pd\n",
        "import matplotlib.pyplot as plt\n",
        "import seaborn as sns\n",
        "import warnings\n",
        "warnings.filterwarnings(\"ignore\")"
      ],
      "execution_count": null,
      "outputs": []
    },
    {
      "cell_type": "code",
      "metadata": {
        "id": "Eex3v3GPqjZ6",
        "colab_type": "code",
        "colab": {},
        "outputId": "fbb8589e-457b-4b2a-da14-e4b8d9549b2e"
      },
      "source": [
        "bank_marketing= pd.read_csv(\"bank-marketing.csv\")\n",
        "print(bank_marketing.shape)\n",
        "bank_marketing.head()"
      ],
      "execution_count": null,
      "outputs": [
        {
          "output_type": "stream",
          "text": [
            "(45211, 19)\n"
          ],
          "name": "stdout"
        },
        {
          "output_type": "execute_result",
          "data": {
            "text/html": [
              "<div>\n",
              "<style scoped>\n",
              "    .dataframe tbody tr th:only-of-type {\n",
              "        vertical-align: middle;\n",
              "    }\n",
              "\n",
              "    .dataframe tbody tr th {\n",
              "        vertical-align: top;\n",
              "    }\n",
              "\n",
              "    .dataframe thead th {\n",
              "        text-align: right;\n",
              "    }\n",
              "</style>\n",
              "<table border=\"1\" class=\"dataframe\">\n",
              "  <thead>\n",
              "    <tr style=\"text-align: right;\">\n",
              "      <th></th>\n",
              "      <th>age</th>\n",
              "      <th>job</th>\n",
              "      <th>salary</th>\n",
              "      <th>marital</th>\n",
              "      <th>education</th>\n",
              "      <th>targeted</th>\n",
              "      <th>default</th>\n",
              "      <th>balance</th>\n",
              "      <th>housing</th>\n",
              "      <th>loan</th>\n",
              "      <th>contact</th>\n",
              "      <th>day</th>\n",
              "      <th>month</th>\n",
              "      <th>duration</th>\n",
              "      <th>campaign</th>\n",
              "      <th>pdays</th>\n",
              "      <th>previous</th>\n",
              "      <th>poutcome</th>\n",
              "      <th>response</th>\n",
              "    </tr>\n",
              "  </thead>\n",
              "  <tbody>\n",
              "    <tr>\n",
              "      <th>0</th>\n",
              "      <td>58</td>\n",
              "      <td>management</td>\n",
              "      <td>100000</td>\n",
              "      <td>married</td>\n",
              "      <td>tertiary</td>\n",
              "      <td>yes</td>\n",
              "      <td>no</td>\n",
              "      <td>2143</td>\n",
              "      <td>yes</td>\n",
              "      <td>no</td>\n",
              "      <td>unknown</td>\n",
              "      <td>5</td>\n",
              "      <td>may</td>\n",
              "      <td>261</td>\n",
              "      <td>1</td>\n",
              "      <td>-1</td>\n",
              "      <td>0</td>\n",
              "      <td>unknown</td>\n",
              "      <td>no</td>\n",
              "    </tr>\n",
              "    <tr>\n",
              "      <th>1</th>\n",
              "      <td>44</td>\n",
              "      <td>technician</td>\n",
              "      <td>60000</td>\n",
              "      <td>single</td>\n",
              "      <td>secondary</td>\n",
              "      <td>yes</td>\n",
              "      <td>no</td>\n",
              "      <td>29</td>\n",
              "      <td>yes</td>\n",
              "      <td>no</td>\n",
              "      <td>unknown</td>\n",
              "      <td>5</td>\n",
              "      <td>may</td>\n",
              "      <td>151</td>\n",
              "      <td>1</td>\n",
              "      <td>-1</td>\n",
              "      <td>0</td>\n",
              "      <td>unknown</td>\n",
              "      <td>no</td>\n",
              "    </tr>\n",
              "    <tr>\n",
              "      <th>2</th>\n",
              "      <td>33</td>\n",
              "      <td>entrepreneur</td>\n",
              "      <td>120000</td>\n",
              "      <td>married</td>\n",
              "      <td>secondary</td>\n",
              "      <td>yes</td>\n",
              "      <td>no</td>\n",
              "      <td>2</td>\n",
              "      <td>yes</td>\n",
              "      <td>yes</td>\n",
              "      <td>unknown</td>\n",
              "      <td>5</td>\n",
              "      <td>may</td>\n",
              "      <td>76</td>\n",
              "      <td>1</td>\n",
              "      <td>-1</td>\n",
              "      <td>0</td>\n",
              "      <td>unknown</td>\n",
              "      <td>no</td>\n",
              "    </tr>\n",
              "    <tr>\n",
              "      <th>3</th>\n",
              "      <td>47</td>\n",
              "      <td>blue-collar</td>\n",
              "      <td>20000</td>\n",
              "      <td>married</td>\n",
              "      <td>unknown</td>\n",
              "      <td>no</td>\n",
              "      <td>no</td>\n",
              "      <td>1506</td>\n",
              "      <td>yes</td>\n",
              "      <td>no</td>\n",
              "      <td>unknown</td>\n",
              "      <td>5</td>\n",
              "      <td>may</td>\n",
              "      <td>92</td>\n",
              "      <td>1</td>\n",
              "      <td>-1</td>\n",
              "      <td>0</td>\n",
              "      <td>unknown</td>\n",
              "      <td>no</td>\n",
              "    </tr>\n",
              "    <tr>\n",
              "      <th>4</th>\n",
              "      <td>33</td>\n",
              "      <td>unknown</td>\n",
              "      <td>0</td>\n",
              "      <td>single</td>\n",
              "      <td>unknown</td>\n",
              "      <td>no</td>\n",
              "      <td>no</td>\n",
              "      <td>1</td>\n",
              "      <td>no</td>\n",
              "      <td>no</td>\n",
              "      <td>unknown</td>\n",
              "      <td>5</td>\n",
              "      <td>may</td>\n",
              "      <td>198</td>\n",
              "      <td>1</td>\n",
              "      <td>-1</td>\n",
              "      <td>0</td>\n",
              "      <td>unknown</td>\n",
              "      <td>no</td>\n",
              "    </tr>\n",
              "  </tbody>\n",
              "</table>\n",
              "</div>"
            ],
            "text/plain": [
              "   age           job  salary  marital  education targeted default  balance  \\\n",
              "0   58    management  100000  married   tertiary      yes      no     2143   \n",
              "1   44    technician   60000   single  secondary      yes      no       29   \n",
              "2   33  entrepreneur  120000  married  secondary      yes      no        2   \n",
              "3   47   blue-collar   20000  married    unknown       no      no     1506   \n",
              "4   33       unknown       0   single    unknown       no      no        1   \n",
              "\n",
              "  housing loan  contact  day month  duration  campaign  pdays  previous  \\\n",
              "0     yes   no  unknown    5   may       261         1     -1         0   \n",
              "1     yes   no  unknown    5   may       151         1     -1         0   \n",
              "2     yes  yes  unknown    5   may        76         1     -1         0   \n",
              "3     yes   no  unknown    5   may        92         1     -1         0   \n",
              "4      no   no  unknown    5   may       198         1     -1         0   \n",
              "\n",
              "  poutcome response  \n",
              "0  unknown       no  \n",
              "1  unknown       no  \n",
              "2  unknown       no  \n",
              "3  unknown       no  \n",
              "4  unknown       no  "
            ]
          },
          "metadata": {
            "tags": []
          },
          "execution_count": 2
        }
      ]
    },
    {
      "cell_type": "code",
      "metadata": {
        "id": "qqHJA2doqjaA",
        "colab_type": "code",
        "colab": {},
        "outputId": "a985219c-db39-43c5-e412-2e1f9d2d99ae"
      },
      "source": [
        "sns.boxplot(bank_marketing.age.values)\n",
        "plt.show()"
      ],
      "execution_count": null,
      "outputs": [
        {
          "output_type": "display_data",
          "data": {
            "image/png": "[encoded data removed]",
            "text/plain": [
              "<Figure size 432x288 with 1 Axes>"
            ]
          },
          "metadata": {
            "tags": [],
            "needs_background": "light"
          }
        }
      ]
    },
    {
      "cell_type": "code",
      "metadata": {
        "id": "T88mr14YqjaF",
        "colab_type": "code",
        "colab": {},
        "outputId": "eaac2f43-4c97-47c4-cc6c-38b9e9ad8ad9"
      },
      "source": [
        "sns.boxplot(bank_marketing.duration.values)\n",
        "plt.show()"
      ],
      "execution_count": null,
      "outputs": [
        {
          "output_type": "display_data",
          "data": {
            "image/png": "[encoded data removed]",
            "text/plain": [
              "<Figure size 432x288 with 1 Axes>"
            ]
          },
          "metadata": {
            "tags": [],
            "needs_background": "light"
          }
        }
      ]
    },
    {
      "cell_type": "code",
      "metadata": {
        "id": "9m2NgQb7qjaK",
        "colab_type": "code",
        "colab": {},
        "outputId": "634c887f-53f8-4a54-cc93-0ade925078bb"
      },
      "source": [
        "sns.boxplot(bank_marketing.balance.values)\n",
        "plt.show()"
      ],
      "execution_count": null,
      "outputs": [
        {
          "output_type": "display_data",
          "data": {
            "image/png": "[encoded data removed]",
            "text/plain": [
              "<Figure size 432x288 with 1 Axes>"
            ]
          },
          "metadata": {
            "tags": [],
            "needs_background": "light"
          }
        }
      ]
    },
    {
      "cell_type": "code",
      "metadata": {
        "id": "BuPSUYagqjaP",
        "colab_type": "code",
        "colab": {},
        "outputId": "5290bb7f-67d8-4005-bb3f-543ee62319c9"
      },
      "source": [
        "bank_marketing.balance.value_counts()"
      ],
      "execution_count": null,
      "outputs": [
        {
          "output_type": "execute_result",
          "data": {
            "text/plain": [
              "0        3514\n",
              "1         195\n",
              "2         156\n",
              "4         139\n",
              "3         134\n",
              "         ... \n",
              "4305        1\n",
              "6352        1\n",
              "18881       1\n",
              "14889       1\n",
              "7218        1\n",
              "Name: balance, Length: 7168, dtype: int64"
            ]
          },
          "metadata": {
            "tags": []
          },
          "execution_count": 6
        }
      ]
    },
    {
      "cell_type": "code",
      "metadata": {
        "id": "yz3O47K3qjaU",
        "colab_type": "code",
        "colab": {},
        "outputId": "c7be9c13-7f13-4303-e4ee-ae8338854c29"
      },
      "source": [
        "sns.boxplot(bank_marketing.day.values)\n",
        "plt.show()"
      ],
      "execution_count": null,
      "outputs": [
        {
          "output_type": "display_data",
          "data": {
            "image/png": "[encoded data removed]",
            "text/plain": [
              "<Figure size 432x288 with 1 Axes>"
            ]
          },
          "metadata": {
            "tags": [],
            "needs_background": "light"
          }
        }
      ]
    },
    {
      "cell_type": "code",
      "metadata": {
        "id": "oelaL6FzqjaY",
        "colab_type": "code",
        "colab": {},
        "outputId": "d732d2b2-5df6-417e-9806-673bba6e00bc"
      },
      "source": [
        "bank_marketing.describe()"
      ],
      "execution_count": null,
      "outputs": [
        {
          "output_type": "execute_result",
          "data": {
            "text/html": [
              "<div>\n",
              "<style scoped>\n",
              "    .dataframe tbody tr th:only-of-type {\n",
              "        vertical-align: middle;\n",
              "    }\n",
              "\n",
              "    .dataframe tbody tr th {\n",
              "        vertical-align: top;\n",
              "    }\n",
              "\n",
              "    .dataframe thead th {\n",
              "        text-align: right;\n",
              "    }\n",
              "</style>\n",
              "<table border=\"1\" class=\"dataframe\">\n",
              "  <thead>\n",
              "    <tr style=\"text-align: right;\">\n",
              "      <th></th>\n",
              "      <th>age</th>\n",
              "      <th>salary</th>\n",
              "      <th>balance</th>\n",
              "      <th>day</th>\n",
              "      <th>duration</th>\n",
              "      <th>campaign</th>\n",
              "      <th>pdays</th>\n",
              "      <th>previous</th>\n",
              "    </tr>\n",
              "  </thead>\n",
              "  <tbody>\n",
              "    <tr>\n",
              "      <th>count</th>\n",
              "      <td>45211.000000</td>\n",
              "      <td>45211.000000</td>\n",
              "      <td>45211.000000</td>\n",
              "      <td>45211.000000</td>\n",
              "      <td>45211.000000</td>\n",
              "      <td>45211.000000</td>\n",
              "      <td>45211.000000</td>\n",
              "      <td>45211.000000</td>\n",
              "    </tr>\n",
              "    <tr>\n",
              "      <th>mean</th>\n",
              "      <td>40.936210</td>\n",
              "      <td>57006.171065</td>\n",
              "      <td>1362.272058</td>\n",
              "      <td>15.806419</td>\n",
              "      <td>258.163080</td>\n",
              "      <td>2.763841</td>\n",
              "      <td>40.197828</td>\n",
              "      <td>0.580323</td>\n",
              "    </tr>\n",
              "    <tr>\n",
              "      <th>std</th>\n",
              "      <td>10.618762</td>\n",
              "      <td>32085.718415</td>\n",
              "      <td>3044.765829</td>\n",
              "      <td>8.322476</td>\n",
              "      <td>257.527812</td>\n",
              "      <td>3.098021</td>\n",
              "      <td>100.128746</td>\n",
              "      <td>2.303441</td>\n",
              "    </tr>\n",
              "    <tr>\n",
              "      <th>min</th>\n",
              "      <td>18.000000</td>\n",
              "      <td>0.000000</td>\n",
              "      <td>-8019.000000</td>\n",
              "      <td>1.000000</td>\n",
              "      <td>0.000000</td>\n",
              "      <td>1.000000</td>\n",
              "      <td>-1.000000</td>\n",
              "      <td>0.000000</td>\n",
              "    </tr>\n",
              "    <tr>\n",
              "      <th>25%</th>\n",
              "      <td>33.000000</td>\n",
              "      <td>20000.000000</td>\n",
              "      <td>72.000000</td>\n",
              "      <td>8.000000</td>\n",
              "      <td>103.000000</td>\n",
              "      <td>1.000000</td>\n",
              "      <td>-1.000000</td>\n",
              "      <td>0.000000</td>\n",
              "    </tr>\n",
              "    <tr>\n",
              "      <th>50%</th>\n",
              "      <td>39.000000</td>\n",
              "      <td>60000.000000</td>\n",
              "      <td>448.000000</td>\n",
              "      <td>16.000000</td>\n",
              "      <td>180.000000</td>\n",
              "      <td>2.000000</td>\n",
              "      <td>-1.000000</td>\n",
              "      <td>0.000000</td>\n",
              "    </tr>\n",
              "    <tr>\n",
              "      <th>75%</th>\n",
              "      <td>48.000000</td>\n",
              "      <td>70000.000000</td>\n",
              "      <td>1428.000000</td>\n",
              "      <td>21.000000</td>\n",
              "      <td>319.000000</td>\n",
              "      <td>3.000000</td>\n",
              "      <td>-1.000000</td>\n",
              "      <td>0.000000</td>\n",
              "    </tr>\n",
              "    <tr>\n",
              "      <th>max</th>\n",
              "      <td>95.000000</td>\n",
              "      <td>120000.000000</td>\n",
              "      <td>102127.000000</td>\n",
              "      <td>31.000000</td>\n",
              "      <td>4918.000000</td>\n",
              "      <td>63.000000</td>\n",
              "      <td>871.000000</td>\n",
              "      <td>275.000000</td>\n",
              "    </tr>\n",
              "  </tbody>\n",
              "</table>\n",
              "</div>"
            ],
            "text/plain": [
              "                age         salary        balance           day      duration  \\\n",
              "count  45211.000000   45211.000000   45211.000000  45211.000000  45211.000000   \n",
              "mean      40.936210   57006.171065    1362.272058     15.806419    258.163080   \n",
              "std       10.618762   32085.718415    3044.765829      8.322476    257.527812   \n",
              "min       18.000000       0.000000   -8019.000000      1.000000      0.000000   \n",
              "25%       33.000000   20000.000000      72.000000      8.000000    103.000000   \n",
              "50%       39.000000   60000.000000     448.000000     16.000000    180.000000   \n",
              "75%       48.000000   70000.000000    1428.000000     21.000000    319.000000   \n",
              "max       95.000000  120000.000000  102127.000000     31.000000   4918.000000   \n",
              "\n",
              "           campaign         pdays      previous  \n",
              "count  45211.000000  45211.000000  45211.000000  \n",
              "mean       2.763841     40.197828      0.580323  \n",
              "std        3.098021    100.128746      2.303441  \n",
              "min        1.000000     -1.000000      0.000000  \n",
              "25%        1.000000     -1.000000      0.000000  \n",
              "50%        2.000000     -1.000000      0.000000  \n",
              "75%        3.000000     -1.000000      0.000000  \n",
              "max       63.000000    871.000000    275.000000  "
            ]
          },
          "metadata": {
            "tags": []
          },
          "execution_count": 8
        }
      ]
    },
    {
      "cell_type": "code",
      "metadata": {
        "id": "iPzxHCPtqjac",
        "colab_type": "code",
        "colab": {},
        "outputId": "29118a6e-f6ae-4cc2-bed8-6af858398cf2"
      },
      "source": [
        "print(bank_marketing.shape)\n",
        "\"\"\" checking pdays mean,median and min values\"\"\"\n",
        "bank_marketing.pdays.describe()"
      ],
      "execution_count": null,
      "outputs": [
        {
          "output_type": "stream",
          "text": [
            "(45211, 19)\n"
          ],
          "name": "stdout"
        },
        {
          "output_type": "execute_result",
          "data": {
            "text/plain": [
              "count    45211.000000\n",
              "mean        40.197828\n",
              "std        100.128746\n",
              "min         -1.000000\n",
              "25%         -1.000000\n",
              "50%         -1.000000\n",
              "75%         -1.000000\n",
              "max        871.000000\n",
              "Name: pdays, dtype: float64"
            ]
          },
          "metadata": {
            "tags": []
          },
          "execution_count": 9
        }
      ]
    },
    {
      "cell_type": "code",
      "metadata": {
        "id": "mBeYePKTqjae",
        "colab_type": "code",
        "colab": {},
        "outputId": "049edffc-a1c6-4863-a8e6-aef61230af4c"
      },
      "source": [
        "sns.distplot(bank_marketing[\"pdays\"],kde= False)"
      ],
      "execution_count": null,
      "outputs": [
        {
          "output_type": "execute_result",
          "data": {
            "text/plain": [
              "<matplotlib.axes._subplots.AxesSubplot at 0x191f9e0ec48>"
            ]
          },
          "metadata": {
            "tags": []
          },
          "execution_count": 10
        },
        {
          "output_type": "display_data",
          "data": {
            "image/png": "[encoded data removed]",
            "text/plain": [
              "<Figure size 432x288 with 1 Axes>"
            ]
          },
          "metadata": {
            "tags": [],
            "needs_background": "light"
          }
        }
      ]
    },
    {
      "cell_type": "code",
      "metadata": {
        "id": "VM3IdW8Iqjai",
        "colab_type": "code",
        "colab": {},
        "outputId": "55aef72b-3976-4789-d903-858be1a2d67b"
      },
      "source": [
        "indexes=bank_marketing[bank_marketing['pdays']== -1].index.values\n",
        "bank_marketing[\"pdays\"]=bank_marketing.pdays.drop(indexes, axis=0)\n",
        "bank_marketing[\"pdays\"].describe()"
      ],
      "execution_count": null,
      "outputs": [
        {
          "output_type": "execute_result",
          "data": {
            "text/plain": [
              "count    8257.000000\n",
              "mean      224.577692\n",
              "std       115.344035\n",
              "min         1.000000\n",
              "25%       133.000000\n",
              "50%       194.000000\n",
              "75%       327.000000\n",
              "max       871.000000\n",
              "Name: pdays, dtype: float64"
            ]
          },
          "metadata": {
            "tags": []
          },
          "execution_count": 11
        }
      ]
    },
    {
      "cell_type": "markdown",
      "metadata": {
        "id": "UzGj08Sxqjal",
        "colab_type": "text"
      },
      "source": [
        "#yes mean and median values did change after droping -1 in pdays, mean> median imples right skewed data"
      ]
    },
    {
      "cell_type": "code",
      "metadata": {
        "id": "xerRxdZ5qjam",
        "colab_type": "code",
        "colab": {},
        "outputId": "af82f8a2-5cb2-4eba-eb98-131b66c9a3cd"
      },
      "source": [
        "plt.hist(bank_marketing[\"pdays\"],bins=20)"
      ],
      "execution_count": null,
      "outputs": [
        {
          "output_type": "execute_result",
          "data": {
            "text/plain": [
              "(array([ 239.,  366., 1451.,  862., 1584.,  534.,  836.,  994., 1144.,\n",
              "          61.,   65.,   31.,   29.,   10.,    7.,   11.,    3.,   15.,\n",
              "           8.,    7.]),\n",
              " array([  1. ,  44.5,  88. , 131.5, 175. , 218.5, 262. , 305.5, 349. ,\n",
              "        392.5, 436. , 479.5, 523. , 566.5, 610. , 653.5, 697. , 740.5,\n",
              "        784. , 827.5, 871. ]),\n",
              " <a list of 20 Patch objects>)"
            ]
          },
          "metadata": {
            "tags": []
          },
          "execution_count": 12
        },
        {
          "output_type": "display_data",
          "data": {
            "image/png": "[encoded data removed]",
            "text/plain": [
              "<Figure size 432x288 with 1 Axes>"
            ]
          },
          "metadata": {
            "tags": [],
            "needs_background": "light"
          }
        }
      ]
    },
    {
      "cell_type": "code",
      "metadata": {
        "id": "n8RK4DLyqjaq",
        "colab_type": "code",
        "colab": {},
        "outputId": "8c846f41-901c-47d2-fed0-9e4b9c210f6c"
      },
      "source": [
        "data=pd.DataFrame(bank_marketing.groupby(by=\"education\")[\"balance\"].median(), index= bank_marketing[\"education\"].unique())\n",
        "data"
      ],
      "execution_count": null,
      "outputs": [
        {
          "output_type": "execute_result",
          "data": {
            "text/html": [
              "<div>\n",
              "<style scoped>\n",
              "    .dataframe tbody tr th:only-of-type {\n",
              "        vertical-align: middle;\n",
              "    }\n",
              "\n",
              "    .dataframe tbody tr th {\n",
              "        vertical-align: top;\n",
              "    }\n",
              "\n",
              "    .dataframe thead th {\n",
              "        text-align: right;\n",
              "    }\n",
              "</style>\n",
              "<table border=\"1\" class=\"dataframe\">\n",
              "  <thead>\n",
              "    <tr style=\"text-align: right;\">\n",
              "      <th></th>\n",
              "      <th>balance</th>\n",
              "    </tr>\n",
              "  </thead>\n",
              "  <tbody>\n",
              "    <tr>\n",
              "      <th>tertiary</th>\n",
              "      <td>577</td>\n",
              "    </tr>\n",
              "    <tr>\n",
              "      <th>secondary</th>\n",
              "      <td>392</td>\n",
              "    </tr>\n",
              "    <tr>\n",
              "      <th>unknown</th>\n",
              "      <td>568</td>\n",
              "    </tr>\n",
              "    <tr>\n",
              "      <th>primary</th>\n",
              "      <td>403</td>\n",
              "    </tr>\n",
              "  </tbody>\n",
              "</table>\n",
              "</div>"
            ],
            "text/plain": [
              "           balance\n",
              "tertiary       577\n",
              "secondary      392\n",
              "unknown        568\n",
              "primary        403"
            ]
          },
          "metadata": {
            "tags": []
          },
          "execution_count": 13
        }
      ]
    },
    {
      "cell_type": "code",
      "metadata": {
        "id": "rtOvsMcXqjat",
        "colab_type": "code",
        "colab": {},
        "outputId": "b4ffb67d-4c40-409b-c758-b62c308e4360"
      },
      "source": [
        "sns.barplot( y=bank_marketing[\"education\"].unique(),x=\"balance\", data= data, orient=\"h\")\n",
        "plt.show()"
      ],
      "execution_count": null,
      "outputs": [
        {
          "output_type": "display_data",
          "data": {
            "image/png": "[encoded data removed]",
            "text/plain": [
              "<Figure size 432x288 with 1 Axes>"
            ]
          },
          "metadata": {
            "tags": [],
            "needs_background": "light"
          }
        }
      ]
    },
    {
      "cell_type": "markdown",
      "metadata": {
        "id": "JCmfDeiuqjav",
        "colab_type": "text"
      },
      "source": [
        "#tertiary group has the highest median"
      ]
    },
    {
      "cell_type": "code",
      "metadata": {
        "id": "a5Xm66dpqjav",
        "colab_type": "code",
        "colab": {},
        "outputId": "e08ff408-cb14-4036-8b1e-985518a2efc7"
      },
      "source": [
        "sns.boxplot(bank_marketing[\"pdays\"].values,orient=\"v\")\n",
        "plt.show()"
      ],
      "execution_count": null,
      "outputs": [
        {
          "output_type": "display_data",
          "data": {
            "image/png": "[encoded data removed]",
            "text/plain": [
              "<Figure size 432x288 with 1 Axes>"
            ]
          },
          "metadata": {
            "tags": [],
            "needs_background": "light"
          }
        }
      ]
    },
    {
      "cell_type": "code",
      "metadata": {
        "id": "9qGjg-kQqjay",
        "colab_type": "code",
        "colab": {},
        "outputId": "be59d543-8097-4811-fb8f-f5e0ae4ec049"
      },
      "source": [
        "from sklearn.preprocessing import LabelEncoder\n",
        "encoder=LabelEncoder()\n",
        "bank_marketing[\"response\"]= encoder.fit_transform(bank_marketing[\"response\"])\n",
        "bank_marketing.head()"
      ],
      "execution_count": null,
      "outputs": [
        {
          "output_type": "execute_result",
          "data": {
            "text/html": [
              "<div>\n",
              "<style scoped>\n",
              "    .dataframe tbody tr th:only-of-type {\n",
              "        vertical-align: middle;\n",
              "    }\n",
              "\n",
              "    .dataframe tbody tr th {\n",
              "        vertical-align: top;\n",
              "    }\n",
              "\n",
              "    .dataframe thead th {\n",
              "        text-align: right;\n",
              "    }\n",
              "</style>\n",
              "<table border=\"1\" class=\"dataframe\">\n",
              "  <thead>\n",
              "    <tr style=\"text-align: right;\">\n",
              "      <th></th>\n",
              "      <th>age</th>\n",
              "      <th>job</th>\n",
              "      <th>salary</th>\n",
              "      <th>marital</th>\n",
              "      <th>education</th>\n",
              "      <th>targeted</th>\n",
              "      <th>default</th>\n",
              "      <th>balance</th>\n",
              "      <th>housing</th>\n",
              "      <th>loan</th>\n",
              "      <th>contact</th>\n",
              "      <th>day</th>\n",
              "      <th>month</th>\n",
              "      <th>duration</th>\n",
              "      <th>campaign</th>\n",
              "      <th>pdays</th>\n",
              "      <th>previous</th>\n",
              "      <th>poutcome</th>\n",
              "      <th>response</th>\n",
              "    </tr>\n",
              "  </thead>\n",
              "  <tbody>\n",
              "    <tr>\n",
              "      <th>0</th>\n",
              "      <td>58</td>\n",
              "      <td>management</td>\n",
              "      <td>100000</td>\n",
              "      <td>married</td>\n",
              "      <td>tertiary</td>\n",
              "      <td>yes</td>\n",
              "      <td>no</td>\n",
              "      <td>2143</td>\n",
              "      <td>yes</td>\n",
              "      <td>no</td>\n",
              "      <td>unknown</td>\n",
              "      <td>5</td>\n",
              "      <td>may</td>\n",
              "      <td>261</td>\n",
              "      <td>1</td>\n",
              "      <td>NaN</td>\n",
              "      <td>0</td>\n",
              "      <td>unknown</td>\n",
              "      <td>0</td>\n",
              "    </tr>\n",
              "    <tr>\n",
              "      <th>1</th>\n",
              "      <td>44</td>\n",
              "      <td>technician</td>\n",
              "      <td>60000</td>\n",
              "      <td>single</td>\n",
              "      <td>secondary</td>\n",
              "      <td>yes</td>\n",
              "      <td>no</td>\n",
              "      <td>29</td>\n",
              "      <td>yes</td>\n",
              "      <td>no</td>\n",
              "      <td>unknown</td>\n",
              "      <td>5</td>\n",
              "      <td>may</td>\n",
              "      <td>151</td>\n",
              "      <td>1</td>\n",
              "      <td>NaN</td>\n",
              "      <td>0</td>\n",
              "      <td>unknown</td>\n",
              "      <td>0</td>\n",
              "    </tr>\n",
              "    <tr>\n",
              "      <th>2</th>\n",
              "      <td>33</td>\n",
              "      <td>entrepreneur</td>\n",
              "      <td>120000</td>\n",
              "      <td>married</td>\n",
              "      <td>secondary</td>\n",
              "      <td>yes</td>\n",
              "      <td>no</td>\n",
              "      <td>2</td>\n",
              "      <td>yes</td>\n",
              "      <td>yes</td>\n",
              "      <td>unknown</td>\n",
              "      <td>5</td>\n",
              "      <td>may</td>\n",
              "      <td>76</td>\n",
              "      <td>1</td>\n",
              "      <td>NaN</td>\n",
              "      <td>0</td>\n",
              "      <td>unknown</td>\n",
              "      <td>0</td>\n",
              "    </tr>\n",
              "    <tr>\n",
              "      <th>3</th>\n",
              "      <td>47</td>\n",
              "      <td>blue-collar</td>\n",
              "      <td>20000</td>\n",
              "      <td>married</td>\n",
              "      <td>unknown</td>\n",
              "      <td>no</td>\n",
              "      <td>no</td>\n",
              "      <td>1506</td>\n",
              "      <td>yes</td>\n",
              "      <td>no</td>\n",
              "      <td>unknown</td>\n",
              "      <td>5</td>\n",
              "      <td>may</td>\n",
              "      <td>92</td>\n",
              "      <td>1</td>\n",
              "      <td>NaN</td>\n",
              "      <td>0</td>\n",
              "      <td>unknown</td>\n",
              "      <td>0</td>\n",
              "    </tr>\n",
              "    <tr>\n",
              "      <th>4</th>\n",
              "      <td>33</td>\n",
              "      <td>unknown</td>\n",
              "      <td>0</td>\n",
              "      <td>single</td>\n",
              "      <td>unknown</td>\n",
              "      <td>no</td>\n",
              "      <td>no</td>\n",
              "      <td>1</td>\n",
              "      <td>no</td>\n",
              "      <td>no</td>\n",
              "      <td>unknown</td>\n",
              "      <td>5</td>\n",
              "      <td>may</td>\n",
              "      <td>198</td>\n",
              "      <td>1</td>\n",
              "      <td>NaN</td>\n",
              "      <td>0</td>\n",
              "      <td>unknown</td>\n",
              "      <td>0</td>\n",
              "    </tr>\n",
              "  </tbody>\n",
              "</table>\n",
              "</div>"
            ],
            "text/plain": [
              "   age           job  salary  marital  education targeted default  balance  \\\n",
              "0   58    management  100000  married   tertiary      yes      no     2143   \n",
              "1   44    technician   60000   single  secondary      yes      no       29   \n",
              "2   33  entrepreneur  120000  married  secondary      yes      no        2   \n",
              "3   47   blue-collar   20000  married    unknown       no      no     1506   \n",
              "4   33       unknown       0   single    unknown       no      no        1   \n",
              "\n",
              "  housing loan  contact  day month  duration  campaign  pdays  previous  \\\n",
              "0     yes   no  unknown    5   may       261         1    NaN         0   \n",
              "1     yes   no  unknown    5   may       151         1    NaN         0   \n",
              "2     yes  yes  unknown    5   may        76         1    NaN         0   \n",
              "3     yes   no  unknown    5   may        92         1    NaN         0   \n",
              "4      no   no  unknown    5   may       198         1    NaN         0   \n",
              "\n",
              "  poutcome  response  \n",
              "0  unknown         0  \n",
              "1  unknown         0  \n",
              "2  unknown         0  \n",
              "3  unknown         0  \n",
              "4  unknown         0  "
            ]
          },
          "metadata": {
            "tags": []
          },
          "execution_count": 16
        }
      ]
    },
    {
      "cell_type": "code",
      "metadata": {
        "id": "ECPSLbUzqja0",
        "colab_type": "code",
        "colab": {},
        "outputId": "362983cb-6ecf-49b3-d61e-f418a2154387"
      },
      "source": [
        "sns.distplot(bank_marketing[\"age\"])"
      ],
      "execution_count": null,
      "outputs": [
        {
          "output_type": "execute_result",
          "data": {
            "text/plain": [
              "<matplotlib.axes._subplots.AxesSubplot at 0x191fa02b548>"
            ]
          },
          "metadata": {
            "tags": []
          },
          "execution_count": 17
        },
        {
          "output_type": "display_data",
          "data": {
            "image/png": "[encoded data removed]",
            "text/plain": [
              "<Figure size 432x288 with 1 Axes>"
            ]
          },
          "metadata": {
            "tags": [],
            "needs_background": "light"
          }
        }
      ]
    },
    {
      "cell_type": "code",
      "metadata": {
        "id": "vpQ7f0tVqja3",
        "colab_type": "code",
        "colab": {},
        "outputId": "9d29a814-b3eb-464f-bcb9-9af8316213c3"
      },
      "source": [
        "bank_marketing[\"poutcome\"].value_counts() #'''since 37K poutcome are unknown, don't consider previous feature'''"
      ],
      "execution_count": null,
      "outputs": [
        {
          "output_type": "execute_result",
          "data": {
            "text/plain": [
              "unknown    36959\n",
              "failure     4901\n",
              "other       1840\n",
              "success     1511\n",
              "Name: poutcome, dtype: int64"
            ]
          },
          "metadata": {
            "tags": []
          },
          "execution_count": 18
        }
      ]
    },
    {
      "cell_type": "code",
      "metadata": {
        "id": "1PkzUuC_qja5",
        "colab_type": "code",
        "colab": {},
        "outputId": "2edecad9-d6ae-4f7d-df2c-f0955b85279c"
      },
      "source": [
        "bank_marketing[\"previous\"].value_counts() #since 36K+ rows are 0s .don't consider previous feature"
      ],
      "execution_count": null,
      "outputs": [
        {
          "output_type": "execute_result",
          "data": {
            "text/plain": [
              "0      36954\n",
              "1       2772\n",
              "2       2106\n",
              "3       1142\n",
              "4        714\n",
              "5        459\n",
              "6        277\n",
              "7        205\n",
              "8        129\n",
              "9         92\n",
              "10        67\n",
              "11        65\n",
              "12        44\n",
              "13        38\n",
              "15        20\n",
              "14        19\n",
              "17        15\n",
              "16        13\n",
              "19        11\n",
              "23         8\n",
              "20         8\n",
              "22         6\n",
              "18         6\n",
              "24         5\n",
              "27         5\n",
              "29         4\n",
              "25         4\n",
              "21         4\n",
              "30         3\n",
              "28         2\n",
              "26         2\n",
              "37         2\n",
              "38         2\n",
              "55         1\n",
              "40         1\n",
              "35         1\n",
              "58         1\n",
              "51         1\n",
              "41         1\n",
              "32         1\n",
              "275        1\n",
              "Name: previous, dtype: int64"
            ]
          },
          "metadata": {
            "tags": []
          },
          "execution_count": 19
        }
      ]
    },
    {
      "cell_type": "code",
      "metadata": {
        "id": "KsdL3Aquqja8",
        "colab_type": "code",
        "colab": {},
        "outputId": "42110fdb-036e-4529-d8a9-e21c4440fe4d"
      },
      "source": [
        "bank_marketing[\"campaign\"].value_counts()"
      ],
      "execution_count": null,
      "outputs": [
        {
          "output_type": "execute_result",
          "data": {
            "text/plain": [
              "1     17544\n",
              "2     12505\n",
              "3      5521\n",
              "4      3522\n",
              "5      1764\n",
              "6      1291\n",
              "7       735\n",
              "8       540\n",
              "9       327\n",
              "10      266\n",
              "11      201\n",
              "12      155\n",
              "13      133\n",
              "14       93\n",
              "15       84\n",
              "16       79\n",
              "17       69\n",
              "18       51\n",
              "19       44\n",
              "20       43\n",
              "21       35\n",
              "22       23\n",
              "23       22\n",
              "25       22\n",
              "24       20\n",
              "28       16\n",
              "29       16\n",
              "26       13\n",
              "31       12\n",
              "27       10\n",
              "32        9\n",
              "30        8\n",
              "33        6\n",
              "34        5\n",
              "36        4\n",
              "35        4\n",
              "43        3\n",
              "38        3\n",
              "41        2\n",
              "50        2\n",
              "37        2\n",
              "51        1\n",
              "55        1\n",
              "46        1\n",
              "58        1\n",
              "44        1\n",
              "39        1\n",
              "63        1\n",
              "Name: campaign, dtype: int64"
            ]
          },
          "metadata": {
            "tags": []
          },
          "execution_count": 20
        }
      ]
    },
    {
      "cell_type": "code",
      "metadata": {
        "id": "qNNqv4vhqjbA",
        "colab_type": "code",
        "colab": {},
        "outputId": "d09001e0-0dbc-43ec-ae33-24f59ac7085a"
      },
      "source": [
        "sns.pairplot(x_vars=[\"age\",\"balance\",\"day\",\"duration\",\"campaign\",\"salary\"], y_vars=[\"response\"],data=bank_marketing)"
      ],
      "execution_count": null,
      "outputs": [
        {
          "output_type": "execute_result",
          "data": {
            "text/plain": [
              "<seaborn.axisgrid.PairGrid at 0x191f9db3d88>"
            ]
          },
          "metadata": {
            "tags": []
          },
          "execution_count": 21
        },
        {
          "output_type": "display_data",
          "data": {
            "image/png": "[encoded data removed]",
            "text/plain": [
              "<Figure size 1080x180 with 6 Axes>"
            ]
          },
          "metadata": {
            "tags": [],
            "needs_background": "light"
          }
        }
      ]
    },
    {
      "cell_type": "code",
      "metadata": {
        "scrolled": true,
        "id": "1TyTEsxmqjbE",
        "colab_type": "code",
        "colab": {},
        "outputId": "c9226a4f-8b87-4ed6-85d8-fb7bdb574450"
      },
      "source": [
        "req_num_col=[\"age\",\"salary\",\"balance\",\"day\",\"duration\"]\n",
        "df=bank_marketing[req_num_col]\n",
        "df.describe()"
      ],
      "execution_count": null,
      "outputs": [
        {
          "output_type": "execute_result",
          "data": {
            "text/html": [
              "<div>\n",
              "<style scoped>\n",
              "    .dataframe tbody tr th:only-of-type {\n",
              "        vertical-align: middle;\n",
              "    }\n",
              "\n",
              "    .dataframe tbody tr th {\n",
              "        vertical-align: top;\n",
              "    }\n",
              "\n",
              "    .dataframe thead th {\n",
              "        text-align: right;\n",
              "    }\n",
              "</style>\n",
              "<table border=\"1\" class=\"dataframe\">\n",
              "  <thead>\n",
              "    <tr style=\"text-align: right;\">\n",
              "      <th></th>\n",
              "      <th>age</th>\n",
              "      <th>salary</th>\n",
              "      <th>balance</th>\n",
              "      <th>day</th>\n",
              "      <th>duration</th>\n",
              "    </tr>\n",
              "  </thead>\n",
              "  <tbody>\n",
              "    <tr>\n",
              "      <th>count</th>\n",
              "      <td>45211.000000</td>\n",
              "      <td>45211.000000</td>\n",
              "      <td>45211.000000</td>\n",
              "      <td>45211.000000</td>\n",
              "      <td>45211.000000</td>\n",
              "    </tr>\n",
              "    <tr>\n",
              "      <th>mean</th>\n",
              "      <td>40.936210</td>\n",
              "      <td>57006.171065</td>\n",
              "      <td>1362.272058</td>\n",
              "      <td>15.806419</td>\n",
              "      <td>258.163080</td>\n",
              "    </tr>\n",
              "    <tr>\n",
              "      <th>std</th>\n",
              "      <td>10.618762</td>\n",
              "      <td>32085.718415</td>\n",
              "      <td>3044.765829</td>\n",
              "      <td>8.322476</td>\n",
              "      <td>257.527812</td>\n",
              "    </tr>\n",
              "    <tr>\n",
              "      <th>min</th>\n",
              "      <td>18.000000</td>\n",
              "      <td>0.000000</td>\n",
              "      <td>-8019.000000</td>\n",
              "      <td>1.000000</td>\n",
              "      <td>0.000000</td>\n",
              "    </tr>\n",
              "    <tr>\n",
              "      <th>25%</th>\n",
              "      <td>33.000000</td>\n",
              "      <td>20000.000000</td>\n",
              "      <td>72.000000</td>\n",
              "      <td>8.000000</td>\n",
              "      <td>103.000000</td>\n",
              "    </tr>\n",
              "    <tr>\n",
              "      <th>50%</th>\n",
              "      <td>39.000000</td>\n",
              "      <td>60000.000000</td>\n",
              "      <td>448.000000</td>\n",
              "      <td>16.000000</td>\n",
              "      <td>180.000000</td>\n",
              "    </tr>\n",
              "    <tr>\n",
              "      <th>75%</th>\n",
              "      <td>48.000000</td>\n",
              "      <td>70000.000000</td>\n",
              "      <td>1428.000000</td>\n",
              "      <td>21.000000</td>\n",
              "      <td>319.000000</td>\n",
              "    </tr>\n",
              "    <tr>\n",
              "      <th>max</th>\n",
              "      <td>95.000000</td>\n",
              "      <td>120000.000000</td>\n",
              "      <td>102127.000000</td>\n",
              "      <td>31.000000</td>\n",
              "      <td>4918.000000</td>\n",
              "    </tr>\n",
              "  </tbody>\n",
              "</table>\n",
              "</div>"
            ],
            "text/plain": [
              "                age         salary        balance           day      duration\n",
              "count  45211.000000   45211.000000   45211.000000  45211.000000  45211.000000\n",
              "mean      40.936210   57006.171065    1362.272058     15.806419    258.163080\n",
              "std       10.618762   32085.718415    3044.765829      8.322476    257.527812\n",
              "min       18.000000       0.000000   -8019.000000      1.000000      0.000000\n",
              "25%       33.000000   20000.000000      72.000000      8.000000    103.000000\n",
              "50%       39.000000   60000.000000     448.000000     16.000000    180.000000\n",
              "75%       48.000000   70000.000000    1428.000000     21.000000    319.000000\n",
              "max       95.000000  120000.000000  102127.000000     31.000000   4918.000000"
            ]
          },
          "metadata": {
            "tags": []
          },
          "execution_count": 22
        }
      ]
    },
    {
      "cell_type": "markdown",
      "metadata": {
        "id": "NieEWNVPqjbI",
        "colab_type": "text"
      },
      "source": [
        "# since these all columns don't fall under same range , normalising this data"
      ]
    },
    {
      "cell_type": "code",
      "metadata": {
        "id": "KDzaQJsQqjbJ",
        "colab_type": "code",
        "colab": {},
        "outputId": "59882b58-c9b6-4287-d24c-7140423ef50d"
      },
      "source": [
        "from sklearn.preprocessing import MinMaxScaler\n",
        "scaler = MinMaxScaler() \n",
        "bank_marketing.age= scaler.fit_transform(bank_marketing[[\"age\"]])\n",
        "bank_marketing.salary= scaler.fit_transform(bank_marketing[[\"salary\"]])\n",
        "bank_marketing.balance= scaler.fit_transform(bank_marketing[[\"balance\"]])\n",
        "bank_marketing.day= scaler.fit_transform(bank_marketing[[\"day\"]])\n",
        "bank_marketing.duration= scaler.fit_transform(bank_marketing[[\"duration\"]])\n",
        "bank_marketing.describe()"
      ],
      "execution_count": null,
      "outputs": [
        {
          "output_type": "execute_result",
          "data": {
            "text/html": [
              "<div>\n",
              "<style scoped>\n",
              "    .dataframe tbody tr th:only-of-type {\n",
              "        vertical-align: middle;\n",
              "    }\n",
              "\n",
              "    .dataframe tbody tr th {\n",
              "        vertical-align: top;\n",
              "    }\n",
              "\n",
              "    .dataframe thead th {\n",
              "        text-align: right;\n",
              "    }\n",
              "</style>\n",
              "<table border=\"1\" class=\"dataframe\">\n",
              "  <thead>\n",
              "    <tr style=\"text-align: right;\">\n",
              "      <th></th>\n",
              "      <th>age</th>\n",
              "      <th>salary</th>\n",
              "      <th>balance</th>\n",
              "      <th>day</th>\n",
              "      <th>duration</th>\n",
              "      <th>campaign</th>\n",
              "      <th>pdays</th>\n",
              "      <th>previous</th>\n",
              "      <th>response</th>\n",
              "    </tr>\n",
              "  </thead>\n",
              "  <tbody>\n",
              "    <tr>\n",
              "      <th>count</th>\n",
              "      <td>45211.000000</td>\n",
              "      <td>45211.000000</td>\n",
              "      <td>45211.000000</td>\n",
              "      <td>45211.000000</td>\n",
              "      <td>45211.000000</td>\n",
              "      <td>45211.000000</td>\n",
              "      <td>8257.000000</td>\n",
              "      <td>45211.000000</td>\n",
              "      <td>45211.000000</td>\n",
              "    </tr>\n",
              "    <tr>\n",
              "      <th>mean</th>\n",
              "      <td>0.297873</td>\n",
              "      <td>0.475051</td>\n",
              "      <td>0.085171</td>\n",
              "      <td>0.493547</td>\n",
              "      <td>0.052494</td>\n",
              "      <td>2.763841</td>\n",
              "      <td>224.577692</td>\n",
              "      <td>0.580323</td>\n",
              "      <td>0.116985</td>\n",
              "    </tr>\n",
              "    <tr>\n",
              "      <th>std</th>\n",
              "      <td>0.137906</td>\n",
              "      <td>0.267381</td>\n",
              "      <td>0.027643</td>\n",
              "      <td>0.277416</td>\n",
              "      <td>0.052364</td>\n",
              "      <td>3.098021</td>\n",
              "      <td>115.344035</td>\n",
              "      <td>2.303441</td>\n",
              "      <td>0.321406</td>\n",
              "    </tr>\n",
              "    <tr>\n",
              "      <th>min</th>\n",
              "      <td>0.000000</td>\n",
              "      <td>0.000000</td>\n",
              "      <td>0.000000</td>\n",
              "      <td>0.000000</td>\n",
              "      <td>0.000000</td>\n",
              "      <td>1.000000</td>\n",
              "      <td>1.000000</td>\n",
              "      <td>0.000000</td>\n",
              "      <td>0.000000</td>\n",
              "    </tr>\n",
              "    <tr>\n",
              "      <th>25%</th>\n",
              "      <td>0.194805</td>\n",
              "      <td>0.166667</td>\n",
              "      <td>0.073457</td>\n",
              "      <td>0.233333</td>\n",
              "      <td>0.020943</td>\n",
              "      <td>1.000000</td>\n",
              "      <td>133.000000</td>\n",
              "      <td>0.000000</td>\n",
              "      <td>0.000000</td>\n",
              "    </tr>\n",
              "    <tr>\n",
              "      <th>50%</th>\n",
              "      <td>0.272727</td>\n",
              "      <td>0.500000</td>\n",
              "      <td>0.076871</td>\n",
              "      <td>0.500000</td>\n",
              "      <td>0.036600</td>\n",
              "      <td>2.000000</td>\n",
              "      <td>194.000000</td>\n",
              "      <td>0.000000</td>\n",
              "      <td>0.000000</td>\n",
              "    </tr>\n",
              "    <tr>\n",
              "      <th>75%</th>\n",
              "      <td>0.389610</td>\n",
              "      <td>0.583333</td>\n",
              "      <td>0.085768</td>\n",
              "      <td>0.666667</td>\n",
              "      <td>0.064864</td>\n",
              "      <td>3.000000</td>\n",
              "      <td>327.000000</td>\n",
              "      <td>0.000000</td>\n",
              "      <td>0.000000</td>\n",
              "    </tr>\n",
              "    <tr>\n",
              "      <th>max</th>\n",
              "      <td>1.000000</td>\n",
              "      <td>1.000000</td>\n",
              "      <td>1.000000</td>\n",
              "      <td>1.000000</td>\n",
              "      <td>1.000000</td>\n",
              "      <td>63.000000</td>\n",
              "      <td>871.000000</td>\n",
              "      <td>275.000000</td>\n",
              "      <td>1.000000</td>\n",
              "    </tr>\n",
              "  </tbody>\n",
              "</table>\n",
              "</div>"
            ],
            "text/plain": [
              "                age        salary       balance           day      duration  \\\n",
              "count  45211.000000  45211.000000  45211.000000  45211.000000  45211.000000   \n",
              "mean       0.297873      0.475051      0.085171      0.493547      0.052494   \n",
              "std        0.137906      0.267381      0.027643      0.277416      0.052364   \n",
              "min        0.000000      0.000000      0.000000      0.000000      0.000000   \n",
              "25%        0.194805      0.166667      0.073457      0.233333      0.020943   \n",
              "50%        0.272727      0.500000      0.076871      0.500000      0.036600   \n",
              "75%        0.389610      0.583333      0.085768      0.666667      0.064864   \n",
              "max        1.000000      1.000000      1.000000      1.000000      1.000000   \n",
              "\n",
              "           campaign        pdays      previous      response  \n",
              "count  45211.000000  8257.000000  45211.000000  45211.000000  \n",
              "mean       2.763841   224.577692      0.580323      0.116985  \n",
              "std        3.098021   115.344035      2.303441      0.321406  \n",
              "min        1.000000     1.000000      0.000000      0.000000  \n",
              "25%        1.000000   133.000000      0.000000      0.000000  \n",
              "50%        2.000000   194.000000      0.000000      0.000000  \n",
              "75%        3.000000   327.000000      0.000000      0.000000  \n",
              "max       63.000000   871.000000    275.000000      1.000000  "
            ]
          },
          "metadata": {
            "tags": []
          },
          "execution_count": 23
        }
      ]
    },
    {
      "cell_type": "code",
      "metadata": {
        "id": "lnayue9OqjbN",
        "colab_type": "code",
        "colab": {},
        "outputId": "58760b99-223c-43bc-d1d7-7146d6a1278c"
      },
      "source": [
        "X=pd.DataFrame()\n",
        "X= bank_marketing.drop([\"pdays\",\"previous\",\"poutcome\",\"response\"],axis=1)\n",
        "from sklearn.preprocessing import OrdinalEncoder\n",
        "encoder=OrdinalEncoder()\n",
        "X=encoder.fit_transform(X)\n",
        "X.shape"
      ],
      "execution_count": null,
      "outputs": [
        {
          "output_type": "execute_result",
          "data": {
            "text/plain": [
              "(45211, 15)"
            ]
          },
          "metadata": {
            "tags": []
          },
          "execution_count": 24
        }
      ]
    },
    {
      "cell_type": "code",
      "metadata": {
        "id": "UP_RwyGIqjbR",
        "colab_type": "code",
        "colab": {},
        "outputId": "b5f23339-2853-465c-ea83-9a47c57517b9"
      },
      "source": [
        "Y=bank_marketing[\"response\"]\n",
        "Y.value_counts()"
      ],
      "execution_count": null,
      "outputs": [
        {
          "output_type": "execute_result",
          "data": {
            "text/plain": [
              "0    39922\n",
              "1     5289\n",
              "Name: response, dtype: int64"
            ]
          },
          "metadata": {
            "tags": []
          },
          "execution_count": 25
        }
      ]
    },
    {
      "cell_type": "code",
      "metadata": {
        "id": "m46Z2DFsqjbW",
        "colab_type": "code",
        "colab": {}
      },
      "source": [
        "from sklearn.model_selection import train_test_split\n",
        "X_train,X_test,Y_train,Y_test=train_test_split(X,Y,train_size=0.7,random_state=1)"
      ],
      "execution_count": null,
      "outputs": []
    },
    {
      "cell_type": "code",
      "metadata": {
        "id": "XO_Aj4DLqjbb",
        "colab_type": "code",
        "colab": {}
      },
      "source": [
        "from sklearn.linear_model import LogisticRegression\n",
        "model=LogisticRegression()\n",
        "model.fit(X_train,Y_train)\n",
        "Y_predict=model.predict(X_test)"
      ],
      "execution_count": null,
      "outputs": []
    },
    {
      "cell_type": "code",
      "metadata": {
        "id": "8cxwjPFbqjbf",
        "colab_type": "code",
        "colab": {},
        "outputId": "cf701c26-f089-49cc-b571-133c9306851f"
      },
      "source": [
        "from sklearn.metrics import accuracy_score, roc_auc_score, classification_report\n",
        "print(accuracy_score(Y_test,Y_predict))\n",
        "print(roc_auc_score(Y_test,Y_predict))"
      ],
      "execution_count": null,
      "outputs": [
        {
          "output_type": "stream",
          "text": [
            "0.8864641698613979\n",
            "0.5874906740564689\n"
          ],
          "name": "stdout"
        }
      ]
    },
    {
      "cell_type": "code",
      "metadata": {
        "id": "eGacwVBNqjbl",
        "colab_type": "code",
        "colab": {},
        "outputId": "2d6a39f5-16b4-4a6f-acec-f1bfb3394f0a"
      },
      "source": [
        "print(classification_report(Y_test,Y_predict))"
      ],
      "execution_count": null,
      "outputs": [
        {
          "output_type": "stream",
          "text": [
            "              precision    recall  f1-score   support\n",
            "\n",
            "           0       0.90      0.98      0.94     12013\n",
            "           1       0.51      0.20      0.29      1551\n",
            "\n",
            "    accuracy                           0.89     13564\n",
            "   macro avg       0.71      0.59      0.61     13564\n",
            "weighted avg       0.86      0.89      0.86     13564\n",
            "\n"
          ],
          "name": "stdout"
        }
      ]
    },
    {
      "cell_type": "markdown",
      "metadata": {
        "id": "Nv06BrPtqjbo",
        "colab_type": "text"
      },
      "source": [
        "# since the data is imbalanced use sampling with replacement technique"
      ]
    },
    {
      "cell_type": "code",
      "metadata": {
        "id": "VVvzDgbEqjbo",
        "colab_type": "code",
        "colab": {},
        "outputId": "0254ee98-64d7-404f-8223-eb845e00c5bb"
      },
      "source": [
        "from sklearn.utils import resample\n",
        "minor_data= bank_marketing[bank_marketing[\"response\"]==1]\n",
        "major_data= bank_marketing[bank_marketing[\"response\"]==0]\n",
        "modified_minor_data=resample(minor_data,replace=True,n_samples=39922,random_state=1)\n",
        "print(modified_minor_data.shape)\n",
        "new_data=pd.concat([major_data,modified_minor_data])\n",
        "print(new_data.shape)"
      ],
      "execution_count": null,
      "outputs": [
        {
          "output_type": "stream",
          "text": [
            "(39922, 19)\n",
            "(79844, 19)\n"
          ],
          "name": "stdout"
        }
      ]
    },
    {
      "cell_type": "code",
      "metadata": {
        "id": "V44tGsd3qjbs",
        "colab_type": "code",
        "colab": {},
        "outputId": "35de12bd-ef4e-4049-dca7-9dc98ea3d06a"
      },
      "source": [
        "x=pd.DataFrame()\n",
        "x= new_data.drop([\"pdays\",\"previous\",\"poutcome\",\"response\"],axis=1)\n",
        "print(x.head())\n",
        "from sklearn.preprocessing import OrdinalEncoder\n",
        "encoder=OrdinalEncoder()\n",
        "x=encoder.fit_transform(x)\n",
        "x=pd.DataFrame(x)\n",
        "y=new_data[\"response\"]\n",
        "x"
      ],
      "execution_count": null,
      "outputs": [
        {
          "output_type": "stream",
          "text": [
            "        age           job    salary  marital  education targeted default  \\\n",
            "0  0.519481    management  0.833333  married   tertiary      yes      no   \n",
            "1  0.337662    technician  0.500000   single  secondary      yes      no   \n",
            "2  0.194805  entrepreneur  1.000000  married  secondary      yes      no   \n",
            "3  0.376623   blue-collar  0.166667  married    unknown       no      no   \n",
            "4  0.194805       unknown  0.000000   single    unknown       no      no   \n",
            "\n",
            "    balance housing loan  contact       day month  duration  campaign  \n",
            "0  0.092259     yes   no  unknown  0.133333   may  0.053070         1  \n",
            "1  0.073067     yes   no  unknown  0.133333   may  0.030704         1  \n",
            "2  0.072822     yes  yes  unknown  0.133333   may  0.015453         1  \n",
            "3  0.086476     yes   no  unknown  0.133333   may  0.018707         1  \n",
            "4  0.072812      no   no  unknown  0.133333   may  0.040260         1  \n"
          ],
          "name": "stdout"
        },
        {
          "output_type": "execute_result",
          "data": {
            "text/html": [
              "<div>\n",
              "<style scoped>\n",
              "    .dataframe tbody tr th:only-of-type {\n",
              "        vertical-align: middle;\n",
              "    }\n",
              "\n",
              "    .dataframe tbody tr th {\n",
              "        vertical-align: top;\n",
              "    }\n",
              "\n",
              "    .dataframe thead th {\n",
              "        text-align: right;\n",
              "    }\n",
              "</style>\n",
              "<table border=\"1\" class=\"dataframe\">\n",
              "  <thead>\n",
              "    <tr style=\"text-align: right;\">\n",
              "      <th></th>\n",
              "      <th>0</th>\n",
              "      <th>1</th>\n",
              "      <th>2</th>\n",
              "      <th>3</th>\n",
              "      <th>4</th>\n",
              "      <th>5</th>\n",
              "      <th>6</th>\n",
              "      <th>7</th>\n",
              "      <th>8</th>\n",
              "      <th>9</th>\n",
              "      <th>10</th>\n",
              "      <th>11</th>\n",
              "      <th>12</th>\n",
              "      <th>13</th>\n",
              "      <th>14</th>\n",
              "    </tr>\n",
              "  </thead>\n",
              "  <tbody>\n",
              "    <tr>\n",
              "      <th>0</th>\n",
              "      <td>40.0</td>\n",
              "      <td>4.0</td>\n",
              "      <td>9.0</td>\n",
              "      <td>1.0</td>\n",
              "      <td>2.0</td>\n",
              "      <td>1.0</td>\n",
              "      <td>0.0</td>\n",
              "      <td>3036.0</td>\n",
              "      <td>1.0</td>\n",
              "      <td>0.0</td>\n",
              "      <td>2.0</td>\n",
              "      <td>4.0</td>\n",
              "      <td>8.0</td>\n",
              "      <td>261.0</td>\n",
              "      <td>0.0</td>\n",
              "    </tr>\n",
              "    <tr>\n",
              "      <th>1</th>\n",
              "      <td>26.0</td>\n",
              "      <td>9.0</td>\n",
              "      <td>7.0</td>\n",
              "      <td>2.0</td>\n",
              "      <td>1.0</td>\n",
              "      <td>1.0</td>\n",
              "      <td>0.0</td>\n",
              "      <td>945.0</td>\n",
              "      <td>1.0</td>\n",
              "      <td>0.0</td>\n",
              "      <td>2.0</td>\n",
              "      <td>4.0</td>\n",
              "      <td>8.0</td>\n",
              "      <td>151.0</td>\n",
              "      <td>0.0</td>\n",
              "    </tr>\n",
              "    <tr>\n",
              "      <th>2</th>\n",
              "      <td>15.0</td>\n",
              "      <td>2.0</td>\n",
              "      <td>10.0</td>\n",
              "      <td>1.0</td>\n",
              "      <td>1.0</td>\n",
              "      <td>1.0</td>\n",
              "      <td>0.0</td>\n",
              "      <td>918.0</td>\n",
              "      <td>1.0</td>\n",
              "      <td>1.0</td>\n",
              "      <td>2.0</td>\n",
              "      <td>4.0</td>\n",
              "      <td>8.0</td>\n",
              "      <td>76.0</td>\n",
              "      <td>0.0</td>\n",
              "    </tr>\n",
              "    <tr>\n",
              "      <th>3</th>\n",
              "      <td>29.0</td>\n",
              "      <td>1.0</td>\n",
              "      <td>4.0</td>\n",
              "      <td>1.0</td>\n",
              "      <td>3.0</td>\n",
              "      <td>0.0</td>\n",
              "      <td>0.0</td>\n",
              "      <td>2420.0</td>\n",
              "      <td>1.0</td>\n",
              "      <td>0.0</td>\n",
              "      <td>2.0</td>\n",
              "      <td>4.0</td>\n",
              "      <td>8.0</td>\n",
              "      <td>92.0</td>\n",
              "      <td>0.0</td>\n",
              "    </tr>\n",
              "    <tr>\n",
              "      <th>4</th>\n",
              "      <td>15.0</td>\n",
              "      <td>11.0</td>\n",
              "      <td>0.0</td>\n",
              "      <td>2.0</td>\n",
              "      <td>3.0</td>\n",
              "      <td>0.0</td>\n",
              "      <td>0.0</td>\n",
              "      <td>917.0</td>\n",
              "      <td>0.0</td>\n",
              "      <td>0.0</td>\n",
              "      <td>2.0</td>\n",
              "      <td>4.0</td>\n",
              "      <td>8.0</td>\n",
              "      <td>198.0</td>\n",
              "      <td>0.0</td>\n",
              "    </tr>\n",
              "    <tr>\n",
              "      <th>...</th>\n",
              "      <td>...</td>\n",
              "      <td>...</td>\n",
              "      <td>...</td>\n",
              "      <td>...</td>\n",
              "      <td>...</td>\n",
              "      <td>...</td>\n",
              "      <td>...</td>\n",
              "      <td>...</td>\n",
              "      <td>...</td>\n",
              "      <td>...</td>\n",
              "      <td>...</td>\n",
              "      <td>...</td>\n",
              "      <td>...</td>\n",
              "      <td>...</td>\n",
              "      <td>...</td>\n",
              "    </tr>\n",
              "    <tr>\n",
              "      <th>79839</th>\n",
              "      <td>6.0</td>\n",
              "      <td>7.0</td>\n",
              "      <td>8.0</td>\n",
              "      <td>2.0</td>\n",
              "      <td>1.0</td>\n",
              "      <td>1.0</td>\n",
              "      <td>0.0</td>\n",
              "      <td>1330.0</td>\n",
              "      <td>1.0</td>\n",
              "      <td>0.0</td>\n",
              "      <td>0.0</td>\n",
              "      <td>17.0</td>\n",
              "      <td>8.0</td>\n",
              "      <td>493.0</td>\n",
              "      <td>0.0</td>\n",
              "    </tr>\n",
              "    <tr>\n",
              "      <th>79840</th>\n",
              "      <td>67.0</td>\n",
              "      <td>5.0</td>\n",
              "      <td>6.0</td>\n",
              "      <td>1.0</td>\n",
              "      <td>0.0</td>\n",
              "      <td>1.0</td>\n",
              "      <td>0.0</td>\n",
              "      <td>6702.0</td>\n",
              "      <td>0.0</td>\n",
              "      <td>0.0</td>\n",
              "      <td>1.0</td>\n",
              "      <td>11.0</td>\n",
              "      <td>3.0</td>\n",
              "      <td>165.0</td>\n",
              "      <td>1.0</td>\n",
              "    </tr>\n",
              "    <tr>\n",
              "      <th>79841</th>\n",
              "      <td>13.0</td>\n",
              "      <td>4.0</td>\n",
              "      <td>9.0</td>\n",
              "      <td>2.0</td>\n",
              "      <td>2.0</td>\n",
              "      <td>0.0</td>\n",
              "      <td>0.0</td>\n",
              "      <td>1212.0</td>\n",
              "      <td>0.0</td>\n",
              "      <td>1.0</td>\n",
              "      <td>0.0</td>\n",
              "      <td>7.0</td>\n",
              "      <td>5.0</td>\n",
              "      <td>509.0</td>\n",
              "      <td>3.0</td>\n",
              "    </tr>\n",
              "    <tr>\n",
              "      <th>79842</th>\n",
              "      <td>5.0</td>\n",
              "      <td>7.0</td>\n",
              "      <td>8.0</td>\n",
              "      <td>2.0</td>\n",
              "      <td>1.0</td>\n",
              "      <td>1.0</td>\n",
              "      <td>0.0</td>\n",
              "      <td>1404.0</td>\n",
              "      <td>0.0</td>\n",
              "      <td>0.0</td>\n",
              "      <td>0.0</td>\n",
              "      <td>28.0</td>\n",
              "      <td>6.0</td>\n",
              "      <td>205.0</td>\n",
              "      <td>0.0</td>\n",
              "    </tr>\n",
              "    <tr>\n",
              "      <th>79843</th>\n",
              "      <td>28.0</td>\n",
              "      <td>6.0</td>\n",
              "      <td>7.0</td>\n",
              "      <td>1.0</td>\n",
              "      <td>1.0</td>\n",
              "      <td>1.0</td>\n",
              "      <td>0.0</td>\n",
              "      <td>1464.0</td>\n",
              "      <td>0.0</td>\n",
              "      <td>0.0</td>\n",
              "      <td>0.0</td>\n",
              "      <td>11.0</td>\n",
              "      <td>1.0</td>\n",
              "      <td>1164.0</td>\n",
              "      <td>3.0</td>\n",
              "    </tr>\n",
              "  </tbody>\n",
              "</table>\n",
              "<p>79844 rows × 15 columns</p>\n",
              "</div>"
            ],
            "text/plain": [
              "          0     1     2    3    4    5    6       7    8    9   10    11   12  \\\n",
              "0      40.0   4.0   9.0  1.0  2.0  1.0  0.0  3036.0  1.0  0.0  2.0   4.0  8.0   \n",
              "1      26.0   9.0   7.0  2.0  1.0  1.0  0.0   945.0  1.0  0.0  2.0   4.0  8.0   \n",
              "2      15.0   2.0  10.0  1.0  1.0  1.0  0.0   918.0  1.0  1.0  2.0   4.0  8.0   \n",
              "3      29.0   1.0   4.0  1.0  3.0  0.0  0.0  2420.0  1.0  0.0  2.0   4.0  8.0   \n",
              "4      15.0  11.0   0.0  2.0  3.0  0.0  0.0   917.0  0.0  0.0  2.0   4.0  8.0   \n",
              "...     ...   ...   ...  ...  ...  ...  ...     ...  ...  ...  ...   ...  ...   \n",
              "79839   6.0   7.0   8.0  2.0  1.0  1.0  0.0  1330.0  1.0  0.0  0.0  17.0  8.0   \n",
              "79840  67.0   5.0   6.0  1.0  0.0  1.0  0.0  6702.0  0.0  0.0  1.0  11.0  3.0   \n",
              "79841  13.0   4.0   9.0  2.0  2.0  0.0  0.0  1212.0  0.0  1.0  0.0   7.0  5.0   \n",
              "79842   5.0   7.0   8.0  2.0  1.0  1.0  0.0  1404.0  0.0  0.0  0.0  28.0  6.0   \n",
              "79843  28.0   6.0   7.0  1.0  1.0  1.0  0.0  1464.0  0.0  0.0  0.0  11.0  1.0   \n",
              "\n",
              "           13   14  \n",
              "0       261.0  0.0  \n",
              "1       151.0  0.0  \n",
              "2        76.0  0.0  \n",
              "3        92.0  0.0  \n",
              "4       198.0  0.0  \n",
              "...       ...  ...  \n",
              "79839   493.0  0.0  \n",
              "79840   165.0  1.0  \n",
              "79841   509.0  3.0  \n",
              "79842   205.0  0.0  \n",
              "79843  1164.0  3.0  \n",
              "\n",
              "[79844 rows x 15 columns]"
            ]
          },
          "metadata": {
            "tags": []
          },
          "execution_count": 31
        }
      ]
    },
    {
      "cell_type": "markdown",
      "metadata": {
        "id": "nR7PaMtVqjbu",
        "colab_type": "text"
      },
      "source": [
        "#building model without considering multicollineraity"
      ]
    },
    {
      "cell_type": "code",
      "metadata": {
        "id": "YGN_JHO2qjbv",
        "colab_type": "code",
        "colab": {}
      },
      "source": [
        "x_train,x_test,y_train,y_test=train_test_split(x,y,train_size=0.7,random_state=1)"
      ],
      "execution_count": null,
      "outputs": []
    },
    {
      "cell_type": "code",
      "metadata": {
        "id": "D4G0M0smqjby",
        "colab_type": "code",
        "colab": {},
        "outputId": "96d07fa6-969f-4c11-d2e2-cc4ab456b977"
      },
      "source": [
        "model.fit(x_train,y_train)\n",
        "y_predict=model.predict(x_test)\n",
        "print(accuracy_score(y_test,y_predict))\n",
        "print()\n",
        "print(roc_auc_score(y_test,y_predict))\n",
        "print()\n",
        "print(classification_report(y_test,y_predict))"
      ],
      "execution_count": null,
      "outputs": [
        {
          "output_type": "stream",
          "text": [
            "0.770101026968356\n",
            "\n",
            "0.7700868112041255\n",
            "\n",
            "              precision    recall  f1-score   support\n",
            "\n",
            "           0       0.76      0.78      0.77     11992\n",
            "           1       0.78      0.76      0.77     11962\n",
            "\n",
            "    accuracy                           0.77     23954\n",
            "   macro avg       0.77      0.77      0.77     23954\n",
            "weighted avg       0.77      0.77      0.77     23954\n",
            "\n"
          ],
          "name": "stdout"
        }
      ]
    },
    {
      "cell_type": "code",
      "metadata": {
        "id": "hz1VUE4Eqjb1",
        "colab_type": "code",
        "colab": {},
        "outputId": "e217c941-30e8-4892-cff4-6ba01a45805d"
      },
      "source": [
        "from sklearn.model_selection import cross_val_score\n",
        "cv_scores=cross_val_score(LogisticRegression().fit(x,y),x_train,y_train,cv=10)\n",
        "print(cv_scores)\n",
        "print(np.mean(cv_scores))"
      ],
      "execution_count": null,
      "outputs": [
        {
          "output_type": "stream",
          "text": [
            "[0.76668456 0.73716228 0.76901056 0.7670424  0.75398103 0.77419932\n",
            " 0.76632671 0.76274826 0.75755949 0.76901056]\n",
            "0.7623725174449812\n"
          ],
          "name": "stdout"
        }
      ]
    },
    {
      "cell_type": "markdown",
      "metadata": {
        "id": "GlxWTllRqjb6",
        "colab_type": "text"
      },
      "source": [
        "# building model using rfe  feature selection and checking the multi colinearity b/w features selected "
      ]
    },
    {
      "cell_type": "code",
      "metadata": {
        "id": "UlSs4mNEqjb7",
        "colab_type": "code",
        "colab": {},
        "outputId": "46a3bf43-434c-49a4-ce7b-e9bb16e63e73"
      },
      "source": [
        "from sklearn.feature_selection import RFE\n",
        "rfe = RFE(estimator=LogisticRegression(), n_features_to_select=3, step=1)\n",
        "rfe.fit(x,y)\n",
        "print(rfe.classes_)\n",
        "print(rfe.predict_proba(x))\n",
        "#x=rfe.transform(x)\n",
        "x=pd.DataFrame(x)\n",
        "mask=rfe.support_\n",
        "print(mask)\n",
        "x_rfe =x.iloc[:,mask]\n",
        "x_rfe"
      ],
      "execution_count": null,
      "outputs": [
        {
          "output_type": "stream",
          "text": [
            "[0 1]\n",
            "[[0.76975983 0.23024017]\n",
            " [0.76975983 0.23024017]\n",
            " [0.86192851 0.13807149]\n",
            " ...\n",
            " [0.48778666 0.51221334]\n",
            " [0.33775646 0.66224354]\n",
            " [0.33775646 0.66224354]]\n",
            "[False False False False False False False False  True  True  True False\n",
            " False False False]\n"
          ],
          "name": "stdout"
        },
        {
          "output_type": "execute_result",
          "data": {
            "text/html": [
              "<div>\n",
              "<style scoped>\n",
              "    .dataframe tbody tr th:only-of-type {\n",
              "        vertical-align: middle;\n",
              "    }\n",
              "\n",
              "    .dataframe tbody tr th {\n",
              "        vertical-align: top;\n",
              "    }\n",
              "\n",
              "    .dataframe thead th {\n",
              "        text-align: right;\n",
              "    }\n",
              "</style>\n",
              "<table border=\"1\" class=\"dataframe\">\n",
              "  <thead>\n",
              "    <tr style=\"text-align: right;\">\n",
              "      <th></th>\n",
              "      <th>8</th>\n",
              "      <th>9</th>\n",
              "      <th>10</th>\n",
              "    </tr>\n",
              "  </thead>\n",
              "  <tbody>\n",
              "    <tr>\n",
              "      <th>0</th>\n",
              "      <td>1.0</td>\n",
              "      <td>0.0</td>\n",
              "      <td>2.0</td>\n",
              "    </tr>\n",
              "    <tr>\n",
              "      <th>1</th>\n",
              "      <td>1.0</td>\n",
              "      <td>0.0</td>\n",
              "      <td>2.0</td>\n",
              "    </tr>\n",
              "    <tr>\n",
              "      <th>2</th>\n",
              "      <td>1.0</td>\n",
              "      <td>1.0</td>\n",
              "      <td>2.0</td>\n",
              "    </tr>\n",
              "    <tr>\n",
              "      <th>3</th>\n",
              "      <td>1.0</td>\n",
              "      <td>0.0</td>\n",
              "      <td>2.0</td>\n",
              "    </tr>\n",
              "    <tr>\n",
              "      <th>4</th>\n",
              "      <td>0.0</td>\n",
              "      <td>0.0</td>\n",
              "      <td>2.0</td>\n",
              "    </tr>\n",
              "    <tr>\n",
              "      <th>...</th>\n",
              "      <td>...</td>\n",
              "      <td>...</td>\n",
              "      <td>...</td>\n",
              "    </tr>\n",
              "    <tr>\n",
              "      <th>79839</th>\n",
              "      <td>1.0</td>\n",
              "      <td>0.0</td>\n",
              "      <td>0.0</td>\n",
              "    </tr>\n",
              "    <tr>\n",
              "      <th>79840</th>\n",
              "      <td>0.0</td>\n",
              "      <td>0.0</td>\n",
              "      <td>1.0</td>\n",
              "    </tr>\n",
              "    <tr>\n",
              "      <th>79841</th>\n",
              "      <td>0.0</td>\n",
              "      <td>1.0</td>\n",
              "      <td>0.0</td>\n",
              "    </tr>\n",
              "    <tr>\n",
              "      <th>79842</th>\n",
              "      <td>0.0</td>\n",
              "      <td>0.0</td>\n",
              "      <td>0.0</td>\n",
              "    </tr>\n",
              "    <tr>\n",
              "      <th>79843</th>\n",
              "      <td>0.0</td>\n",
              "      <td>0.0</td>\n",
              "      <td>0.0</td>\n",
              "    </tr>\n",
              "  </tbody>\n",
              "</table>\n",
              "<p>79844 rows × 3 columns</p>\n",
              "</div>"
            ],
            "text/plain": [
              "        8    9    10\n",
              "0      1.0  0.0  2.0\n",
              "1      1.0  0.0  2.0\n",
              "2      1.0  1.0  2.0\n",
              "3      1.0  0.0  2.0\n",
              "4      0.0  0.0  2.0\n",
              "...    ...  ...  ...\n",
              "79839  1.0  0.0  0.0\n",
              "79840  0.0  0.0  1.0\n",
              "79841  0.0  1.0  0.0\n",
              "79842  0.0  0.0  0.0\n",
              "79843  0.0  0.0  0.0\n",
              "\n",
              "[79844 rows x 3 columns]"
            ]
          },
          "metadata": {
            "tags": []
          },
          "execution_count": 35
        }
      ]
    },
    {
      "cell_type": "markdown",
      "metadata": {
        "id": "oqt2g2LaqjcB",
        "colab_type": "text"
      },
      "source": [
        "checking the multicollinearity b/w selected features"
      ]
    },
    {
      "cell_type": "code",
      "metadata": {
        "id": "F4ao9z_5qjcC",
        "colab_type": "code",
        "colab": {},
        "outputId": "842f9bf0-446f-4944-fe4b-2efe8cc21b21"
      },
      "source": [
        "from statsmodels.stats.outliers_influence import variance_inflation_factor\n",
        "vif = pd.DataFrame()\n",
        "vif[\"VIF Factor\"] = [variance_inflation_factor(x_rfe.values, i) for i in range(x_rfe.shape[1])]\n",
        "vif[\"features\"] = x_rfe.columns\n",
        "vif"
      ],
      "execution_count": null,
      "outputs": [
        {
          "output_type": "execute_result",
          "data": {
            "text/html": [
              "<div>\n",
              "<style scoped>\n",
              "    .dataframe tbody tr th:only-of-type {\n",
              "        vertical-align: middle;\n",
              "    }\n",
              "\n",
              "    .dataframe tbody tr th {\n",
              "        vertical-align: top;\n",
              "    }\n",
              "\n",
              "    .dataframe thead th {\n",
              "        text-align: right;\n",
              "    }\n",
              "</style>\n",
              "<table border=\"1\" class=\"dataframe\">\n",
              "  <thead>\n",
              "    <tr style=\"text-align: right;\">\n",
              "      <th></th>\n",
              "      <th>VIF Factor</th>\n",
              "      <th>features</th>\n",
              "    </tr>\n",
              "  </thead>\n",
              "  <tbody>\n",
              "    <tr>\n",
              "      <th>0</th>\n",
              "      <td>1.390848</td>\n",
              "      <td>8</td>\n",
              "    </tr>\n",
              "    <tr>\n",
              "      <th>1</th>\n",
              "      <td>1.110916</td>\n",
              "      <td>9</td>\n",
              "    </tr>\n",
              "    <tr>\n",
              "      <th>2</th>\n",
              "      <td>1.312018</td>\n",
              "      <td>10</td>\n",
              "    </tr>\n",
              "  </tbody>\n",
              "</table>\n",
              "</div>"
            ],
            "text/plain": [
              "   VIF Factor  features\n",
              "0    1.390848         8\n",
              "1    1.110916         9\n",
              "2    1.312018        10"
            ]
          },
          "metadata": {
            "tags": []
          },
          "execution_count": 36
        }
      ]
    },
    {
      "cell_type": "code",
      "metadata": {
        "id": "pFwskYi7qjcJ",
        "colab_type": "code",
        "colab": {}
      },
      "source": [
        "X_train,X_test,y_train,y_test=train_test_split(x_rfe,y,train_size=0.7,random_state=1)\n",
        "model1=LogisticRegression()"
      ],
      "execution_count": null,
      "outputs": []
    },
    {
      "cell_type": "code",
      "metadata": {
        "id": "FjLDr_2JqjcN",
        "colab_type": "code",
        "colab": {},
        "outputId": "217e25b7-8cbf-4a5e-ee08-231c2a849c34"
      },
      "source": [
        "model1.fit(X_train,y_train)\n",
        "Y_predict=model1.predict(X_test)\n",
        "print(accuracy_score(y_test,Y_predict))\n",
        "print()\n",
        "print(roc_auc_score(y_test,Y_predict))\n",
        "print()\n",
        "print(classification_report(y_test,Y_predict))"
      ],
      "execution_count": null,
      "outputs": [
        {
          "output_type": "stream",
          "text": [
            "0.6356767137012608\n",
            "\n",
            "0.6356314397415253\n",
            "\n",
            "              precision    recall  f1-score   support\n",
            "\n",
            "           0       0.63      0.67      0.65     11992\n",
            "           1       0.65      0.60      0.62     11962\n",
            "\n",
            "    accuracy                           0.64     23954\n",
            "   macro avg       0.64      0.64      0.64     23954\n",
            "weighted avg       0.64      0.64      0.64     23954\n",
            "\n"
          ],
          "name": "stdout"
        }
      ]
    },
    {
      "cell_type": "markdown",
      "metadata": {
        "id": "01427e5AqjcR",
        "colab_type": "text"
      },
      "source": [
        "here columns 8,9,10 are my iportant features"
      ]
    },
    {
      "cell_type": "markdown",
      "metadata": {
        "id": "W2S5KuG2qjcS",
        "colab_type": "text"
      },
      "source": [
        "# estimating the model perfomance using kfold cross validation"
      ]
    },
    {
      "cell_type": "code",
      "metadata": {
        "id": "lh7JvkJtqjcS",
        "colab_type": "code",
        "colab": {},
        "outputId": "b8cc9912-fc39-4dbe-f990-a071f084fb90"
      },
      "source": [
        "from sklearn.model_selection import cross_val_score\n",
        "cv_scores=cross_val_score(LogisticRegression().fit(x_rfe,y),X_train,y_train,cv=10)\n",
        "print(cv_scores)\n",
        "print(np.mean(cv_scores))"
      ],
      "execution_count": null,
      "outputs": [
        {
          "output_type": "stream",
          "text": [
            "[0.63714439 0.63106101 0.63857577 0.64000716 0.63624978 0.63768116\n",
            " 0.64430131 0.63714439 0.63911254 0.6364287 ]\n",
            "0.6377706208624083\n"
          ],
          "name": "stdout"
        }
      ]
    },
    {
      "cell_type": "markdown",
      "metadata": {
        "id": "gd4Qd3RkqjcX",
        "colab_type": "text"
      },
      "source": [
        "accuracy is 0.64 , precision is 0.65,recall is 0.6"
      ]
    },
    {
      "cell_type": "markdown",
      "metadata": {
        "id": "c1FU9okeqjca",
        "colab_type": "text"
      },
      "source": [
        "#housing, loan and contact are the importanat features of my model"
      ]
    },
    {
      "cell_type": "markdown",
      "metadata": {
        "id": "hAqIASjNqjcb",
        "colab_type": "text"
      },
      "source": [
        "# building a randomforest model"
      ]
    },
    {
      "cell_type": "code",
      "metadata": {
        "id": "5o-rkMQ2qjcb",
        "colab_type": "code",
        "colab": {}
      },
      "source": [
        "x_train,x_test,y_train,y_test=train_test_split(x,y,train_size=0.7,random_state=1)"
      ],
      "execution_count": null,
      "outputs": []
    },
    {
      "cell_type": "code",
      "metadata": {
        "id": "ClRATfn4qjcf",
        "colab_type": "code",
        "colab": {},
        "outputId": "571d956a-d475-4cc1-fe6d-e9d0e6bb7643"
      },
      "source": [
        "from sklearn.ensemble import RandomForestClassifier\n",
        "model2 = RandomForestClassifier(n_estimators =40 ,\n",
        "                               max_depth=9,\n",
        "                               max_features = 3,\n",
        "                               random_state = 1) # all the columns\n",
        "\n",
        "model2.fit(x_train, y_train)\n",
        "yf_predict = model2.predict(x_test)\n",
        "\n",
        "from sklearn.metrics import accuracy_score\n",
        "print(model2.feature_importances_)\n",
        "print()\n",
        "print (accuracy_score(y_test, yf_predict))"
      ],
      "execution_count": null,
      "outputs": [
        {
          "output_type": "stream",
          "text": [
            "[0.05498569 0.00990027 0.01245816 0.01181244 0.01123739 0.00439399\n",
            " 0.00084012 0.04096695 0.06423856 0.0114733  0.09874651 0.0229198\n",
            " 0.08598876 0.5481778  0.02186026]\n",
            "\n",
            "0.850254654754947\n"
          ],
          "name": "stdout"
        }
      ]
    },
    {
      "cell_type": "markdown",
      "metadata": {
        "id": "v_OHNdbXqjcj",
        "colab_type": "text"
      },
      "source": [
        "# estimating model performance using kfold cross validation"
      ]
    },
    {
      "cell_type": "code",
      "metadata": {
        "id": "tty6OKihqjcl",
        "colab_type": "code",
        "colab": {},
        "outputId": "1c191929-5d3d-47c0-a542-3d22cb341afc"
      },
      "source": [
        "from sklearn.model_selection import cross_val_score\n",
        "cv_scores=cross_val_score(model2.fit(x,y),x_train,y_train,cv=10)\n",
        "print(cv_scores)\n",
        "print(\"mean accuracy of model is:\" ,np.mean(cv_scores))"
      ],
      "execution_count": null,
      "outputs": [
        {
          "output_type": "stream",
          "text": [
            "[0.85471462 0.84254786 0.84827339 0.84791555 0.84719986 0.85059939\n",
            " 0.84093756 0.83843264 0.8459474  0.84380032]\n",
            "mean accuracy of model is: 0.8460368581141529\n"
          ],
          "name": "stdout"
        }
      ]
    },
    {
      "cell_type": "code",
      "metadata": {
        "id": "l9Cjc4hoqjcm",
        "colab_type": "code",
        "colab": {},
        "outputId": "cb3a0ab3-f7ff-44be-9ff6-9428d81986c1"
      },
      "source": [
        "print(classification_report(y_test,yf_predict))"
      ],
      "execution_count": null,
      "outputs": [
        {
          "output_type": "stream",
          "text": [
            "              precision    recall  f1-score   support\n",
            "\n",
            "           0       0.89      0.80      0.84     11992\n",
            "           1       0.82      0.90      0.86     11962\n",
            "\n",
            "    accuracy                           0.85     23954\n",
            "   macro avg       0.85      0.85      0.85     23954\n",
            "weighted avg       0.85      0.85      0.85     23954\n",
            "\n"
          ],
          "name": "stdout"
        }
      ]
    },
    {
      "cell_type": "markdown",
      "metadata": {
        "id": "9RdkWDbEqjcr",
        "colab_type": "text"
      },
      "source": [
        "precision :0.82 ,recall:0.90,accuracy:0.85"
      ]
    },
    {
      "cell_type": "code",
      "metadata": {
        "id": "IA64qoO1qjcs",
        "colab_type": "code",
        "colab": {},
        "outputId": "b7871356-2872-444e-f490-74acb1c00043"
      },
      "source": [
        "Importance = pd.DataFrame({'Importance':model2.feature_importances_*100}, index=x_train.columns)\n",
        "Importance.sort_values('Importance', axis=0, ascending=True).plot(kind='barh', color='b', )\n",
        "plt.xlabel('Variable Importance')\n",
        "plt.gca().legend_ = None"
      ],
      "execution_count": null,
      "outputs": [
        {
          "output_type": "display_data",
          "data": {
            "image/png": "[encoded data removed]",
            "text/plain": [
              "<Figure size 432x288 with 1 Axes>"
            ]
          },
          "metadata": {
            "tags": [],
            "needs_background": "light"
          }
        }
      ]
    },
    {
      "cell_type": "code",
      "metadata": {
        "id": "d9mFKlq2qjcw",
        "colab_type": "code",
        "colab": {},
        "outputId": "8b7ae1c6-5bea-4078-ba94-f1025ae11a29"
      },
      "source": [
        "columns={0:\"age\",1:\"job\",2:\"salary\",3:\"marital\",4:\"education\",5:\"targeted\",6:\"default\",7:\" balance\",8:\" housing\",9:\" loan\",10:\"contact\",11:\"day \",12:\"month\",13:\"  duration\",14:\"campaign\"}\n",
        "print(columns)"
      ],
      "execution_count": null,
      "outputs": [
        {
          "output_type": "stream",
          "text": [
            "{0: 'age', 1: 'job', 2: 'salary', 3: 'marital', 4: 'education', 5: 'targeted', 6: 'default', 7: ' balance', 8: ' housing', 9: ' loan', 10: 'contact', 11: 'day ', 12: 'month', 13: '  duration', 14: 'campaign'}\n"
          ],
          "name": "stdout"
        }
      ]
    },
    {
      "cell_type": "markdown",
      "metadata": {
        "id": "Ox14J59rqjc0",
        "colab_type": "text"
      },
      "source": [
        " my top 3 features in this random forest model are (13,10,12)duration , contact and month "
      ]
    },
    {
      "cell_type": "markdown",
      "metadata": {
        "id": "BLC8YbxTqjc0",
        "colab_type": "text"
      },
      "source": [
        "#i choose to use classification_report since classification_report gives me precision,recall and accuracy of the model, "
      ]
    },
    {
      "cell_type": "markdown",
      "metadata": {
        "id": "GBZSZm2rqjc1",
        "colab_type": "text"
      },
      "source": [
        "#Randomforest model has better performance on test data set"
      ]
    },
    {
      "cell_type": "markdown",
      "metadata": {
        "id": "OkBvOmQ2qjc2",
        "colab_type": "text"
      },
      "source": [
        "    No, the top features in both the models are different :\n",
        "    in 1st model(lr) are housing, loan and contact \n",
        "    in 2nd model(rf)  are duration , contact and month "
      ]
    }
  ]
}